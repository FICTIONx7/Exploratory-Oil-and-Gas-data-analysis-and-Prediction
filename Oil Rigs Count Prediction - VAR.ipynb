{
 "cells": [
  {
   "cell_type": "markdown",
   "id": "acb0cbc4",
   "metadata": {},
   "source": [
    "# VAR model"
   ]
  },
  {
   "cell_type": "code",
   "execution_count": 40,
   "id": "de590667",
   "metadata": {},
   "outputs": [],
   "source": [
    "#importing libraries and tools\n",
    "import numpy as np\n",
    "import pandas as pd\n",
    "import matplotlib.pyplot as plt\n",
    "import seaborn as sns\n",
    "\n",
    "from statsmodels.tsa.api import VAR\n",
    "from statsmodels.tsa.stattools import adfuller, grangercausalitytests\n",
    "from statsmodels.tools.eval_measures import rmse, mse, meanabs\n",
    "from sklearn.model_selection import TimeSeriesSplit\n",
    "import time\n",
    "from matplotlib import rcParams\n",
    "import datetime\n",
    "\n",
    "import requests \n",
    "\n",
    "import warnings\n",
    "warnings.filterwarnings(\"ignore\")"
   ]
  },
  {
   "cell_type": "code",
   "execution_count": 41,
   "id": "1b946a05",
   "metadata": {},
   "outputs": [],
   "source": [
    "#default plot size\n",
    "rcParams['figure.figsize'] = 6,6"
   ]
  },
  {
   "cell_type": "code",
   "execution_count": 42,
   "id": "6800000f",
   "metadata": {},
   "outputs": [],
   "source": [
    "#Importing data from EIA(Energy Information Administration)\n",
    "oil_df = pd.read_csv('D:\\myDocuments\\oil project\\dfoil.csv', index_col=0,parse_dates=True)\n",
    "oil_df_transformed = pd.read_csv('D:\\myDocuments\\oil project\\dfoil_transformed.csv', index_col=0,parse_dates=True)"
   ]
  },
  {
   "cell_type": "code",
   "execution_count": 43,
   "id": "a7db644f",
   "metadata": {},
   "outputs": [
    {
     "data": {
      "text/html": [
       "<div>\n",
       "<style scoped>\n",
       "    .dataframe tbody tr th:only-of-type {\n",
       "        vertical-align: middle;\n",
       "    }\n",
       "\n",
       "    .dataframe tbody tr th {\n",
       "        vertical-align: top;\n",
       "    }\n",
       "\n",
       "    .dataframe thead th {\n",
       "        text-align: right;\n",
       "    }\n",
       "</style>\n",
       "<table border=\"1\" class=\"dataframe\">\n",
       "  <thead>\n",
       "    <tr style=\"text-align: right;\">\n",
       "      <th></th>\n",
       "      <th>oilrig_count</th>\n",
       "      <th>oil_price</th>\n",
       "      <th>oilconsumption</th>\n",
       "      <th>oilproduction</th>\n",
       "      <th>oilstorage</th>\n",
       "    </tr>\n",
       "  </thead>\n",
       "  <tbody>\n",
       "    <tr>\n",
       "      <th>1997-01-07</th>\n",
       "      <td>344.709677</td>\n",
       "      <td>26.250000</td>\n",
       "      <td>17352.142857</td>\n",
       "      <td>6479.714286</td>\n",
       "      <td>837012.285714</td>\n",
       "    </tr>\n",
       "    <tr>\n",
       "      <th>1997-01-08</th>\n",
       "      <td>345.161290</td>\n",
       "      <td>26.550000</td>\n",
       "      <td>17596.428571</td>\n",
       "      <td>6486.142857</td>\n",
       "      <td>837598.857143</td>\n",
       "    </tr>\n",
       "    <tr>\n",
       "      <th>1997-01-09</th>\n",
       "      <td>345.612903</td>\n",
       "      <td>26.300000</td>\n",
       "      <td>17840.714286</td>\n",
       "      <td>6492.571429</td>\n",
       "      <td>838185.428571</td>\n",
       "    </tr>\n",
       "    <tr>\n",
       "      <th>1997-01-10</th>\n",
       "      <td>346.064516</td>\n",
       "      <td>26.150000</td>\n",
       "      <td>18085.000000</td>\n",
       "      <td>6499.000000</td>\n",
       "      <td>838772.000000</td>\n",
       "    </tr>\n",
       "    <tr>\n",
       "      <th>1997-01-11</th>\n",
       "      <td>346.516129</td>\n",
       "      <td>25.833333</td>\n",
       "      <td>18160.571429</td>\n",
       "      <td>6495.714286</td>\n",
       "      <td>838473.000000</td>\n",
       "    </tr>\n",
       "  </tbody>\n",
       "</table>\n",
       "</div>"
      ],
      "text/plain": [
       "            oilrig_count  oil_price  oilconsumption  oilproduction  \\\n",
       "1997-01-07    344.709677  26.250000    17352.142857    6479.714286   \n",
       "1997-01-08    345.161290  26.550000    17596.428571    6486.142857   \n",
       "1997-01-09    345.612903  26.300000    17840.714286    6492.571429   \n",
       "1997-01-10    346.064516  26.150000    18085.000000    6499.000000   \n",
       "1997-01-11    346.516129  25.833333    18160.571429    6495.714286   \n",
       "\n",
       "               oilstorage  \n",
       "1997-01-07  837012.285714  \n",
       "1997-01-08  837598.857143  \n",
       "1997-01-09  838185.428571  \n",
       "1997-01-10  838772.000000  \n",
       "1997-01-11  838473.000000  "
      ]
     },
     "metadata": {},
     "output_type": "display_data"
    },
    {
     "data": {
      "text/html": [
       "<div>\n",
       "<style scoped>\n",
       "    .dataframe tbody tr th:only-of-type {\n",
       "        vertical-align: middle;\n",
       "    }\n",
       "\n",
       "    .dataframe tbody tr th {\n",
       "        vertical-align: top;\n",
       "    }\n",
       "\n",
       "    .dataframe thead th {\n",
       "        text-align: right;\n",
       "    }\n",
       "</style>\n",
       "<table border=\"1\" class=\"dataframe\">\n",
       "  <thead>\n",
       "    <tr style=\"text-align: right;\">\n",
       "      <th></th>\n",
       "      <th>oilrig_count</th>\n",
       "      <th>oil_price</th>\n",
       "      <th>oilconsumption</th>\n",
       "      <th>oilproduction</th>\n",
       "      <th>oilstorage</th>\n",
       "    </tr>\n",
       "  </thead>\n",
       "  <tbody>\n",
       "    <tr>\n",
       "      <th>1997-01-09</th>\n",
       "      <td>0.903226</td>\n",
       "      <td>0.050000</td>\n",
       "      <td>488.571429</td>\n",
       "      <td>12.857143</td>\n",
       "      <td>1173.142857</td>\n",
       "    </tr>\n",
       "    <tr>\n",
       "      <th>1997-01-10</th>\n",
       "      <td>0.903226</td>\n",
       "      <td>-0.400000</td>\n",
       "      <td>488.571429</td>\n",
       "      <td>12.857143</td>\n",
       "      <td>1173.142857</td>\n",
       "    </tr>\n",
       "    <tr>\n",
       "      <th>1997-01-11</th>\n",
       "      <td>0.903226</td>\n",
       "      <td>-0.466667</td>\n",
       "      <td>319.857143</td>\n",
       "      <td>3.142857</td>\n",
       "      <td>287.571429</td>\n",
       "    </tr>\n",
       "    <tr>\n",
       "      <th>1997-01-12</th>\n",
       "      <td>0.903226</td>\n",
       "      <td>-0.633333</td>\n",
       "      <td>151.142857</td>\n",
       "      <td>-6.571429</td>\n",
       "      <td>-598.000000</td>\n",
       "    </tr>\n",
       "    <tr>\n",
       "      <th>1997-01-13</th>\n",
       "      <td>0.903226</td>\n",
       "      <td>-0.633333</td>\n",
       "      <td>151.142857</td>\n",
       "      <td>-6.571429</td>\n",
       "      <td>-598.000000</td>\n",
       "    </tr>\n",
       "  </tbody>\n",
       "</table>\n",
       "</div>"
      ],
      "text/plain": [
       "            oilrig_count  oil_price  oilconsumption  oilproduction  \\\n",
       "1997-01-09      0.903226   0.050000      488.571429      12.857143   \n",
       "1997-01-10      0.903226  -0.400000      488.571429      12.857143   \n",
       "1997-01-11      0.903226  -0.466667      319.857143       3.142857   \n",
       "1997-01-12      0.903226  -0.633333      151.142857      -6.571429   \n",
       "1997-01-13      0.903226  -0.633333      151.142857      -6.571429   \n",
       "\n",
       "             oilstorage  \n",
       "1997-01-09  1173.142857  \n",
       "1997-01-10  1173.142857  \n",
       "1997-01-11   287.571429  \n",
       "1997-01-12  -598.000000  \n",
       "1997-01-13  -598.000000  "
      ]
     },
     "metadata": {},
     "output_type": "display_data"
    },
    {
     "data": {
      "text/html": [
       "<div>\n",
       "<style scoped>\n",
       "    .dataframe tbody tr th:only-of-type {\n",
       "        vertical-align: middle;\n",
       "    }\n",
       "\n",
       "    .dataframe tbody tr th {\n",
       "        vertical-align: top;\n",
       "    }\n",
       "\n",
       "    .dataframe thead th {\n",
       "        text-align: right;\n",
       "    }\n",
       "</style>\n",
       "<table border=\"1\" class=\"dataframe\">\n",
       "  <thead>\n",
       "    <tr style=\"text-align: right;\">\n",
       "      <th></th>\n",
       "      <th>gasrig_count</th>\n",
       "      <th>gas_price</th>\n",
       "      <th>gaswell_count</th>\n",
       "      <th>gasimports_amount</th>\n",
       "      <th>gasconsumption_amount</th>\n",
       "    </tr>\n",
       "  </thead>\n",
       "  <tbody>\n",
       "    <tr>\n",
       "      <th>1997-01-07</th>\n",
       "      <td>480.709677</td>\n",
       "      <td>3.820000</td>\n",
       "      <td>871.774194</td>\n",
       "      <td>270.982903</td>\n",
       "      <td>2488.713903</td>\n",
       "    </tr>\n",
       "    <tr>\n",
       "      <th>1997-01-08</th>\n",
       "      <td>481.161290</td>\n",
       "      <td>3.800000</td>\n",
       "      <td>870.903226</td>\n",
       "      <td>269.765387</td>\n",
       "      <td>2480.109387</td>\n",
       "    </tr>\n",
       "    <tr>\n",
       "      <th>1997-01-09</th>\n",
       "      <td>481.612903</td>\n",
       "      <td>3.610000</td>\n",
       "      <td>870.032258</td>\n",
       "      <td>268.547871</td>\n",
       "      <td>2471.504871</td>\n",
       "    </tr>\n",
       "    <tr>\n",
       "      <th>1997-01-10</th>\n",
       "      <td>482.064516</td>\n",
       "      <td>3.920000</td>\n",
       "      <td>869.161290</td>\n",
       "      <td>267.330355</td>\n",
       "      <td>2462.900355</td>\n",
       "    </tr>\n",
       "    <tr>\n",
       "      <th>1997-01-11</th>\n",
       "      <td>482.516129</td>\n",
       "      <td>3.946667</td>\n",
       "      <td>868.290323</td>\n",
       "      <td>266.112839</td>\n",
       "      <td>2454.295839</td>\n",
       "    </tr>\n",
       "  </tbody>\n",
       "</table>\n",
       "</div>"
      ],
      "text/plain": [
       "            gasrig_count  gas_price  gaswell_count  gasimports_amount  \\\n",
       "1997-01-07    480.709677   3.820000     871.774194         270.982903   \n",
       "1997-01-08    481.161290   3.800000     870.903226         269.765387   \n",
       "1997-01-09    481.612903   3.610000     870.032258         268.547871   \n",
       "1997-01-10    482.064516   3.920000     869.161290         267.330355   \n",
       "1997-01-11    482.516129   3.946667     868.290323         266.112839   \n",
       "\n",
       "            gasconsumption_amount  \n",
       "1997-01-07            2488.713903  \n",
       "1997-01-08            2480.109387  \n",
       "1997-01-09            2471.504871  \n",
       "1997-01-10            2462.900355  \n",
       "1997-01-11            2454.295839  "
      ]
     },
     "metadata": {},
     "output_type": "display_data"
    },
    {
     "data": {
      "text/html": [
       "<div>\n",
       "<style scoped>\n",
       "    .dataframe tbody tr th:only-of-type {\n",
       "        vertical-align: middle;\n",
       "    }\n",
       "\n",
       "    .dataframe tbody tr th {\n",
       "        vertical-align: top;\n",
       "    }\n",
       "\n",
       "    .dataframe thead th {\n",
       "        text-align: right;\n",
       "    }\n",
       "</style>\n",
       "<table border=\"1\" class=\"dataframe\">\n",
       "  <thead>\n",
       "    <tr style=\"text-align: right;\">\n",
       "      <th></th>\n",
       "      <th>gasrig_count</th>\n",
       "      <th>gas_price</th>\n",
       "      <th>gaswell_count</th>\n",
       "      <th>gasimports_amount</th>\n",
       "      <th>gasconsumption_amount</th>\n",
       "    </tr>\n",
       "  </thead>\n",
       "  <tbody>\n",
       "    <tr>\n",
       "      <th>1997-01-09</th>\n",
       "      <td>0.903226</td>\n",
       "      <td>-0.210000</td>\n",
       "      <td>-1.741935</td>\n",
       "      <td>-2.435032</td>\n",
       "      <td>-17.209032</td>\n",
       "    </tr>\n",
       "    <tr>\n",
       "      <th>1997-01-10</th>\n",
       "      <td>0.903226</td>\n",
       "      <td>0.120000</td>\n",
       "      <td>-1.741935</td>\n",
       "      <td>-2.435032</td>\n",
       "      <td>-17.209032</td>\n",
       "    </tr>\n",
       "    <tr>\n",
       "      <th>1997-01-11</th>\n",
       "      <td>0.903226</td>\n",
       "      <td>0.336667</td>\n",
       "      <td>-1.741935</td>\n",
       "      <td>-2.435032</td>\n",
       "      <td>-17.209032</td>\n",
       "    </tr>\n",
       "    <tr>\n",
       "      <th>1997-01-12</th>\n",
       "      <td>0.903226</td>\n",
       "      <td>0.053333</td>\n",
       "      <td>-1.741935</td>\n",
       "      <td>-2.435032</td>\n",
       "      <td>-17.209032</td>\n",
       "    </tr>\n",
       "    <tr>\n",
       "      <th>1997-01-13</th>\n",
       "      <td>0.903226</td>\n",
       "      <td>0.053333</td>\n",
       "      <td>-1.741935</td>\n",
       "      <td>-2.435032</td>\n",
       "      <td>-17.209032</td>\n",
       "    </tr>\n",
       "  </tbody>\n",
       "</table>\n",
       "</div>"
      ],
      "text/plain": [
       "            gasrig_count  gas_price  gaswell_count  gasimports_amount  \\\n",
       "1997-01-09      0.903226  -0.210000      -1.741935          -2.435032   \n",
       "1997-01-10      0.903226   0.120000      -1.741935          -2.435032   \n",
       "1997-01-11      0.903226   0.336667      -1.741935          -2.435032   \n",
       "1997-01-12      0.903226   0.053333      -1.741935          -2.435032   \n",
       "1997-01-13      0.903226   0.053333      -1.741935          -2.435032   \n",
       "\n",
       "            gasconsumption_amount  \n",
       "1997-01-09             -17.209032  \n",
       "1997-01-10             -17.209032  \n",
       "1997-01-11             -17.209032  \n",
       "1997-01-12             -17.209032  \n",
       "1997-01-13             -17.209032  "
      ]
     },
     "metadata": {},
     "output_type": "display_data"
    }
   ],
   "source": [
    "#overviewing dataframes\n",
    "display(oil_df.head(5))\n",
    "display(oil_df_transformed.head(5))"
   ]
  },
  {
   "cell_type": "markdown",
   "id": "876fb6d6",
   "metadata": {},
   "source": [
    "OIL RIGS PREDICTION"
   ]
  },
  {
   "cell_type": "code",
   "execution_count": 44,
   "id": "5d4bd976",
   "metadata": {},
   "outputs": [],
   "source": [
    "freq_time = 'M'\n",
    "oil_df = oil_df.resample('M').mean()\n",
    "oil_df.index.freq = 'M'\n",
    "oil_df_transformed = oil_df_transformed.resample('M').mean()\n",
    "oil_df_transformed.index.freq = 'M'\n",
    "gas_df = gas_df.resample('M').mean()\n",
    "gas_df.index.freq = 'M'\n",
    "gas_df_transformed = gas_df_transformed.resample('M').mean()\n",
    "gas_df_transformed.index.freq = 'M'"
   ]
  },
  {
   "cell_type": "markdown",
   "id": "95006745",
   "metadata": {},
   "source": [
    "Splitting the data into train and test data set."
   ]
  },
  {
   "cell_type": "code",
   "execution_count": 46,
   "id": "4a03904e",
   "metadata": {},
   "outputs": [],
   "source": [
    "#period is the variable that will be used to determine the number of months(steps) to predict.\n",
    "period = 12\n",
    "train, test = oil_df_transformed[0:-period], oil_df_transformed[-period:]"
   ]
  },
  {
   "cell_type": "markdown",
   "id": "ed190848",
   "metadata": {},
   "source": [
    "Training VAR model"
   ]
  },
  {
   "cell_type": "code",
   "execution_count": 26,
   "id": "4c328b9b",
   "metadata": {},
   "outputs": [],
   "source": [
    "oil_model = VAR(train)"
   ]
  },
  {
   "cell_type": "code",
   "execution_count": 47,
   "id": "71d9a02d",
   "metadata": {},
   "outputs": [
    {
     "name": "stdout",
     "output_type": "stream",
     "text": [
      "Order = 0\n",
      "AIC:  25.85377895509131\n",
      "BIC:  26.04552677733711\n",
      "Order = 1\n",
      "AIC:  24.62562748700883\n",
      "BIC:  25.138257547397412\n",
      "Order = 2\n",
      "AIC:  24.543052490949254\n",
      "BIC:  25.37820504545798\n",
      "Order = 3\n",
      "AIC:  24.49046824264916\n",
      "BIC:  25.649797644726515\n",
      "Order = 4\n",
      "AIC:  24.44370500807985\n",
      "BIC:  25.928879877434046\n",
      "Order = 5\n",
      "AIC:  24.479851862504358\n",
      "BIC:  26.292555256478465\n",
      "Order = 6\n",
      "AIC:  24.510402378822327\n",
      "BIC:  26.65233196640421\n",
      "Order = 7\n",
      "AIC:  24.560680628038043\n",
      "BIC:  27.033548866554383\n",
      "Order = 8\n",
      "AIC:  24.662155460325025\n",
      "BIC:  27.467689774869942\n",
      "Order = 9\n",
      "AIC:  24.57837342485318\n",
      "BIC:  27.71831639050286\n"
     ]
    }
   ],
   "source": [
    "for i in range(10):\n",
    "    oil_results = oil_model.fit(i,trend='ctt')\n",
    "    print('Order =', i)\n",
    "    print('AIC: ', oil_results.aic)\n",
    "    print('BIC: ', oil_results.bic)"
   ]
  },
  {
   "cell_type": "code",
   "execution_count": 48,
   "id": "710ff99e",
   "metadata": {},
   "outputs": [
    {
     "data": {
      "text/plain": [
       "  Summary of Regression Results   \n",
       "==================================\n",
       "Model:                         VAR\n",
       "Method:                        OLS\n",
       "Date:           Wed, 16, Nov, 2022\n",
       "Time:                     01:26:30\n",
       "--------------------------------------------------------------------\n",
       "No. of Equations:         5.00000    BIC:                    25.9289\n",
       "Nobs:                     282.000    HQIC:                   25.0393\n",
       "Log likelihood:          -5332.27    FPE:                4.13575e+10\n",
       "AIC:                      24.4437    Det(Omega_mle):     2.79448e+10\n",
       "--------------------------------------------------------------------\n",
       "Results for equation oilrig_count\n",
       "====================================================================================\n",
       "                       coefficient       std. error           t-stat            prob\n",
       "------------------------------------------------------------------------------------\n",
       "const                    -0.387508         0.281652           -1.376           0.169\n",
       "trend                     0.007407         0.004572            1.620           0.105\n",
       "trend**2                 -0.000025         0.000015           -1.613           0.107\n",
       "L1.oilrig_count           0.858716         0.066833           12.849           0.000\n",
       "L1.oil_price              0.950114         0.251206            3.782           0.000\n",
       "L1.oilconsumption         0.001623         0.002392            0.679           0.497\n",
       "L1.oilproduction         -0.009210         0.007035           -1.309           0.190\n",
       "L1.oilstorage            -0.000219         0.000122           -1.793           0.073\n",
       "L2.oilrig_count          -0.329181         0.086739           -3.795           0.000\n",
       "L2.oil_price              0.755291         0.259553            2.910           0.004\n",
       "L2.oilconsumption        -0.003538         0.002560           -1.382           0.167\n",
       "L2.oilproduction         -0.008588         0.006919           -1.241           0.215\n",
       "L2.oilstorage             0.000151         0.000124            1.219           0.223\n",
       "L3.oilrig_count           0.148563         0.086438            1.719           0.086\n",
       "L3.oil_price              0.447634         0.262889            1.703           0.089\n",
       "L3.oilconsumption         0.000688         0.002556            0.269           0.788\n",
       "L3.oilproduction          0.002938         0.006827            0.430           0.667\n",
       "L3.oilstorage             0.000046         0.000125            0.366           0.714\n",
       "L4.oilrig_count           0.000475         0.062722            0.008           0.994\n",
       "L4.oil_price             -0.011158         0.253895           -0.044           0.965\n",
       "L4.oilconsumption         0.002900         0.002318            1.251           0.211\n",
       "L4.oilproduction         -0.002812         0.006861           -0.410           0.682\n",
       "L4.oilstorage            -0.000063         0.000125           -0.501           0.617\n",
       "====================================================================================\n",
       "\n",
       "Results for equation oil_price\n",
       "====================================================================================\n",
       "                       coefficient       std. error           t-stat            prob\n",
       "------------------------------------------------------------------------------------\n",
       "const                    -0.011037         0.073698           -0.150           0.881\n",
       "trend                     0.000721         0.001196            0.602           0.547\n",
       "trend**2                 -0.000003         0.000004           -0.867           0.386\n",
       "L1.oilrig_count          -0.008947         0.017488           -0.512           0.609\n",
       "L1.oil_price              0.245457         0.065732            3.734           0.000\n",
       "L1.oilconsumption         0.000270         0.000626            0.431           0.666\n",
       "L1.oilproduction         -0.000031         0.001841           -0.017           0.987\n",
       "L1.oilstorage            -0.000008         0.000032           -0.264           0.792\n",
       "L2.oilrig_count          -0.027058         0.022697           -1.192           0.233\n",
       "L2.oil_price              0.088878         0.067916            1.309           0.191\n",
       "L2.oilconsumption        -0.000270         0.000670           -0.403           0.687\n",
       "L2.oilproduction          0.002261         0.001810            1.249           0.212\n",
       "L2.oilstorage             0.000034         0.000032            1.057           0.291\n",
       "L3.oilrig_count           0.015210         0.022618            0.672           0.501\n",
       "L3.oil_price             -0.013675         0.068789           -0.199           0.842\n",
       "L3.oilconsumption        -0.000321         0.000669           -0.479           0.632\n",
       "L3.oilproduction          0.002659         0.001786            1.489           0.137\n",
       "L3.oilstorage            -0.000016         0.000033           -0.475           0.634\n",
       "L4.oilrig_count           0.001755         0.016412            0.107           0.915\n",
       "L4.oil_price              0.005917         0.066435            0.089           0.929\n",
       "L4.oilconsumption        -0.000325         0.000607           -0.536           0.592\n",
       "L4.oilproduction         -0.001987         0.001795           -1.107           0.268\n",
       "L4.oilstorage             0.000016         0.000033            0.502           0.615\n",
       "====================================================================================\n",
       "\n",
       "Results for equation oilconsumption\n",
       "====================================================================================\n",
       "                       coefficient       std. error           t-stat            prob\n",
       "------------------------------------------------------------------------------------\n",
       "const                     4.285288         7.455949            0.575           0.565\n",
       "trend                    -0.058551         0.121038           -0.484           0.629\n",
       "trend**2                  0.000127         0.000407            0.312           0.755\n",
       "L1.oilrig_count           1.682829         1.769211            0.951           0.342\n",
       "L1.oil_price              2.841539         6.649962            0.427           0.669\n",
       "L1.oilconsumption        -0.462268         0.063327           -7.300           0.000\n",
       "L1.oilproduction          0.344959         0.186240            1.852           0.064\n",
       "L1.oilstorage            -0.011982         0.003240           -3.698           0.000\n",
       "L2.oilrig_count          -3.531708         2.296174           -1.538           0.124\n",
       "L2.oil_price              4.903460         6.870931            0.714           0.475\n",
       "L2.oilconsumption        -0.349321         0.067769           -5.155           0.000\n",
       "L2.oilproduction          0.080606         0.183157            0.440           0.660\n",
       "L2.oilstorage            -0.001071         0.003284           -0.326           0.744\n",
       "L3.oilrig_count           2.506909         2.288189            1.096           0.273\n",
       "L3.oil_price             -1.707170         6.959237           -0.245           0.806\n",
       "L3.oilconsumption        -0.193521         0.067654           -2.860           0.004\n",
       "L3.oilproduction         -0.059255         0.180715           -0.328           0.743\n",
       "L3.oilstorage             0.009260         0.003306            2.801           0.005\n",
       "L4.oilrig_count           0.542791         1.660398            0.327           0.744\n",
       "L4.oil_price              7.255037         6.721154            1.079           0.280\n",
       "L4.oilconsumption        -0.093737         0.061370           -1.527           0.127\n",
       "L4.oilproduction         -0.464243         0.181618           -2.556           0.011\n",
       "L4.oilstorage             0.012768         0.003321            3.845           0.000\n",
       "====================================================================================\n",
       "\n",
       "Results for equation oilproduction\n",
       "====================================================================================\n",
       "                       coefficient       std. error           t-stat            prob\n",
       "------------------------------------------------------------------------------------\n",
       "const                    -2.404820         2.511925           -0.957           0.338\n",
       "trend                     0.053292         0.040778            1.307           0.191\n",
       "trend**2                 -0.000128         0.000137           -0.934           0.350\n",
       "L1.oilrig_count           0.928539         0.596051            1.558           0.119\n",
       "L1.oil_price             -0.514054         2.240387           -0.229           0.819\n",
       "L1.oilconsumption         0.036696         0.021335            1.720           0.085\n",
       "L1.oilproduction         -0.174304         0.062745           -2.778           0.005\n",
       "L1.oilstorage            -0.000071         0.001092           -0.065           0.948\n",
       "L2.oilrig_count           0.326274         0.773586            0.422           0.673\n",
       "L2.oil_price             -1.117492         2.314832           -0.483           0.629\n",
       "L2.oilconsumption        -0.018370         0.022832           -0.805           0.421\n",
       "L2.oilproduction         -0.038803         0.061706           -0.629           0.529\n",
       "L2.oilstorage            -0.003543         0.001106           -3.202           0.001\n",
       "L3.oilrig_count          -1.172175         0.770896           -1.521           0.128\n",
       "L3.oil_price             -1.478395         2.344582           -0.631           0.528\n",
       "L3.oilconsumption        -0.020212         0.022793           -0.887           0.375\n",
       "L3.oilproduction          0.159799         0.060883            2.625           0.009\n",
       "L3.oilstorage            -0.002226         0.001114           -1.999           0.046\n",
       "L4.oilrig_count           0.637692         0.559392            1.140           0.254\n",
       "L4.oil_price             -6.262839         2.264371           -2.766           0.006\n",
       "L4.oilconsumption         0.005785         0.020676            0.280           0.780\n",
       "L4.oilproduction         -0.019325         0.061187           -0.316           0.752\n",
       "L4.oilstorage            -0.002505         0.001119           -2.239           0.025\n",
       "====================================================================================\n",
       "\n",
       "Results for equation oilstorage\n",
       "====================================================================================\n",
       "                       coefficient       std. error           t-stat            prob\n",
       "------------------------------------------------------------------------------------\n",
       "const                   -47.920936       146.643740           -0.327           0.744\n",
       "trend                     3.237055         2.380573            1.360           0.174\n",
       "trend**2                 -0.012663         0.008000           -1.583           0.113\n",
       "L1.oilrig_count         -22.596006        34.796885           -0.649           0.516\n",
       "L1.oil_price           -164.119071       130.791586           -1.255           0.210\n",
       "L1.oilconsumption        -3.843109         1.245511           -3.086           0.002\n",
       "L1.oilproduction          0.922703         3.662963            0.252           0.801\n",
       "L1.oilstorage             0.121851         0.063729            1.912           0.056\n",
       "L2.oilrig_count         -34.369706        45.161187           -0.761           0.447\n",
       "L2.oil_price           -134.705388       135.137603           -0.997           0.319\n",
       "L2.oilconsumption        -2.084083         1.332886           -1.564           0.118\n",
       "L2.oilproduction         -2.615032         3.602329           -0.726           0.468\n",
       "L2.oilstorage            -0.107311         0.064592           -1.661           0.097\n",
       "L3.oilrig_count         -28.214238        45.004147           -0.627           0.531\n",
       "L3.oil_price            120.410354       136.874417            0.880           0.379\n",
       "L3.oilconsumption         0.021273         1.330618            0.016           0.987\n",
       "L3.oilproduction          4.451663         3.554311            1.252           0.210\n",
       "L3.oilstorage            -0.017485         0.065015           -0.269           0.788\n",
       "L4.oilrig_count          30.705884        32.656732            0.940           0.347\n",
       "L4.oil_price           -285.253535       132.191781           -2.158           0.031\n",
       "L4.oilconsumption        -1.424366         1.207023           -1.180           0.238\n",
       "L4.oilproduction          3.077314         3.572061            0.861           0.389\n",
       "L4.oilstorage            -0.171073         0.065312           -2.619           0.009\n",
       "====================================================================================\n",
       "\n",
       "Correlation matrix of residuals\n",
       "                  oilrig_count  oil_price  oilconsumption  oilproduction  oilstorage\n",
       "oilrig_count          1.000000   0.276767        0.260161       0.080324   -0.212661\n",
       "oil_price             0.276767   1.000000        0.017443      -0.091995   -0.220097\n",
       "oilconsumption        0.260161   0.017443        1.000000       0.259312   -0.157363\n",
       "oilproduction         0.080324  -0.091995        0.259312       1.000000    0.040058\n",
       "oilstorage           -0.212661  -0.220097       -0.157363       0.040058    1.000000\n",
       "\n"
      ]
     },
     "execution_count": 48,
     "metadata": {},
     "output_type": "execute_result"
    }
   ],
   "source": [
    "oil_results = oil_model.fit(4,trend='ctt')\n",
    "oil_results.summary()"
   ]
  },
  {
   "cell_type": "code",
   "execution_count": 49,
   "id": "d41aceb7",
   "metadata": {},
   "outputs": [
    {
     "data": {
      "text/plain": [
       "4"
      ]
     },
     "execution_count": 49,
     "metadata": {},
     "output_type": "execute_result"
    }
   ],
   "source": [
    "lag_order = oil_results.k_ar\n",
    "lag_order"
   ]
  },
  {
   "cell_type": "markdown",
   "id": "d2c8e5e5",
   "metadata": {},
   "source": [
    "Sample Forecasting against known value"
   ]
  },
  {
   "cell_type": "code",
   "execution_count": 50,
   "id": "2a85eab5",
   "metadata": {},
   "outputs": [
    {
     "data": {
      "text/plain": [
       "<AxesSubplot: title={'center': 'Oil Rig Count Prediction: FORECAST vs TEST Set - VAR Model'}>"
      ]
     },
     "execution_count": 50,
     "metadata": {},
     "output_type": "execute_result"
    },
    {
     "data": {
      "image/png": "[encoded data removed]",
      "text/plain": [
       "<Figure size 432x432 with 1 Axes>"
      ]
     },
     "metadata": {
      "needs_background": "light"
     },
     "output_type": "display_data"
    }
   ],
   "source": [
    "z = oil_results.forecast(y=train.values[-lag_order:], steps=period)\n",
    "\n",
    "idx = pd.date_range(test.index.min(), periods=period, freq='M')\n",
    "oil_forecast = pd.DataFrame(z, index=idx, columns=['oilrig_count2d', 'oil_price2d', 'oilconsumption2d', 'oilproduction2d',\n",
    "       'oilstorage2d'])\n",
    "\n",
    "oil_forecast['oilrig_count1d'] = (oil_df['oilrig_count'].iloc[-period-1]-oil_df['oilrig_count'].iloc[-period-2])+oil_forecast['oilrig_count2d'].cumsum()\n",
    "oil_forecast['oilrig_forecast'] = oil_df['oilrig_count'].iloc[-period-1] + oil_forecast['oilrig_count1d'].cumsum()\n",
    "\n",
    "oil_df['oilrig_count'].loc['2017':].plot(legend=True)\n",
    "oil_forecast['oilrig_forecast'].plot(legend=True,linewidth=4,title='Oil Rig Count Prediction: FORECAST vs TEST Set - VAR Model')"
   ]
  },
  {
   "cell_type": "markdown",
   "id": "fbf6e8d0",
   "metadata": {},
   "source": [
    "Evaluating Model Performance"
   ]
  },
  {
   "cell_type": "code",
   "execution_count": 51,
   "id": "2822f7c8",
   "metadata": {},
   "outputs": [
    {
     "name": "stdout",
     "output_type": "stream",
     "text": [
      "Oil Rig VAR(4) RMSE: 11.013\n",
      "Oil Rig VAR(4) MSE: 121.297\n",
      "Oil Rig VAR(4) MAE: 9.293\n",
      "\n",
      "Oil Rig Mean Value: 345.055\n",
      "Oil Rig std Value: 54.791\n",
      "Oil Rig Percent Change: 3.192%\n"
     ]
    }
   ],
   "source": [
    "RMSE1 = rmse(oil_df['oilrig_count'].loc[test.index.min():],oil_forecast['oilrig_forecast'])\n",
    "MSE1 = mse(oil_df['oilrig_count'].loc[test.index.min():],oil_forecast['oilrig_forecast'])\n",
    "MAE1 = meanabs(oil_df['oilrig_count'].loc[test.index.min():],oil_forecast['oilrig_forecast'])\n",
    "\n",
    "print(f\"\"\"Oil Rig VAR(4) RMSE: {RMSE1:.3f}\n",
    "Oil Rig VAR(4) MSE: {MSE1:.3f}\n",
    "Oil Rig VAR(4) MAE: {MAE1:.3f}\\n\n",
    "Oil Rig Mean Value: {oil_df['oilrig_count'][-period:].mean():.3f}\n",
    "Oil Rig std Value: {oil_df['oilrig_count'][-period:].std():.3f}\n",
    "Oil Rig Percent Change: {RMSE1/oil_df['oilrig_count'][-period:].mean()*100:.3f}%\"\"\")"
   ]
  },
  {
   "cell_type": "code",
   "execution_count": 55,
   "id": "e71f88ff",
   "metadata": {},
   "outputs": [
    {
     "name": "stdout",
     "output_type": "stream",
     "text": [
      "TRAIN: 178 TEST: 12\n",
      "TRAIN: 190 TEST: 12\n",
      "TRAIN: 202 TEST: 12\n",
      "TRAIN: 214 TEST: 12\n",
      "TRAIN: 226 TEST: 12\n",
      "TRAIN: 238 TEST: 12\n",
      "TRAIN: 250 TEST: 12\n",
      "TRAIN: 262 TEST: 12\n",
      "TRAIN: 274 TEST: 12\n",
      "TRAIN: 286 TEST: 12\n",
      "\n",
      "10-fold Cross Validation Oil Rig\n",
      "RMSE: 515.152,\n",
      "MSE: 382589.856\n",
      "MAE: 488.906\n",
      "\n",
      "Oil Rig Mean Value: 345.055\n",
      "Oil Rig std Value: 54.791\n",
      "Oil Rig Percent Change: 149.296%\n"
     ]
    }
   ],
   "source": [
    "tscv = TimeSeriesSplit(n_splits=10, test_size=12)\n",
    "RMSE_oil = []\n",
    "MSE_oil = []\n",
    "MAE_oil = []\n",
    "for train_index, test_index in tscv.split(oil_df_transformed):\n",
    "    print(\"TRAIN:\", len(train_index), \"TEST:\", len(test_index))\n",
    "    train,test = oil_df_transformed.loc[oil_df_transformed.index[train_index],:], oil_df_transformed.loc[oil_df_transformed.index[test_index],:]\n",
    "    oil_model = VAR(train)\n",
    "    oil_results = oil_model.fit(4,trend='ctt')\n",
    "    z = oil_results.forecast(y=train.values[-lag_order:], steps=period)\n",
    "    idx = pd.date_range(test.index.min(), periods=period, freq='M')\n",
    "    oil_df_forecast = pd.DataFrame(z, index=idx, columns=['oilrig_count2d', 'oil_price2d', 'oilconsumption2d', 'oilproduction2d',\n",
    "           'oilstorage2d'])\n",
    "    oil_df_forecast['oilrig_count1d'] = (oil_df['oilrig_count'].iloc[-period-1]-oil_df['oilrig_count'].iloc[-period-2])+oil_df_forecast['oilrig_count2d'].cumsum()\n",
    "    oil_df_forecast['oilrig_forecast'] = oil_df['oilrig_count'].iloc[-period-1] + oil_df_forecast['oilrig_count1d'].cumsum()\n",
    "    RMSE_oil.append('{:.3f}'.format(rmse(oil_df.loc[oil_df.index[test_index],'oilrig_count'],oil_df_forecast['oilrig_forecast'])))\n",
    "    MSE_oil.append('{:.3f}'.format(mse(oil_df.loc[oil_df.index[test_index],'oilrig_count'],oil_df_forecast['oilrig_forecast'])))\n",
    "    MAE_oil.append('{:.3f}'.format(meanabs(oil_df.loc[oil_df.index[test_index],'oilrig_count'],oil_df_forecast['oilrig_forecast'])))\n",
    "\n",
    "RMSE_oil = np.array(RMSE_oil).astype('float')\n",
    "MSE_oil = np.array(MSE_oil).astype('float')\n",
    "MAE_oil = np.array(MAE_oil).astype('float')\n",
    "print(f\"\"\"\\n10-fold Cross Validation Oil Rig\n",
    "RMSE: {RMSE_oil.mean():.3f},\n",
    "MSE: {MSE_oil.mean():.3f}\n",
    "MAE: {MAE_oil.mean():.3f}\\n\n",
    "Oil Rig Mean Value: {oil_df['oilrig_count'][-period:].mean():.3f}\n",
    "Oil Rig std Value: {oil_df['oilrig_count'][-period:].std():.3f}\n",
    "Oil Rig Percent Change: {RMSE_oil.mean()/oil_df['oilrig_count'][-period:].mean()*100:.3f}%\"\"\")"
   ]
  },
  {
   "cell_type": "markdown",
   "id": "5f2f3a70",
   "metadata": {},
   "source": [
    "After Evaluation, Fitting Model with 100% data for Real Future Prediction"
   ]
  },
  {
   "cell_type": "code",
   "execution_count": 57,
   "id": "4b8f18e5",
   "metadata": {},
   "outputs": [
    {
     "name": "stdout",
     "output_type": "stream",
     "text": [
      "Execution period in seconds: 0.02294135093688965\n"
     ]
    }
   ],
   "source": [
    "startperiod = time.time()\n",
    "oil_model = VAR(oil_df_transformed)\n",
    "oil_results = oil_model.fit(4,trend='ctt')\n",
    "z = oil_results.forecast(y=oil_df_transformed.values, steps=period)\n",
    "idx = pd.date_range(oil_df_transformed.index.max(), periods=period, freq='M')\n",
    "oil_df_forecast = pd.DataFrame(z, index=idx, columns=['oilrig_count2d', 'oil_price2d', 'oilconsumption2d', 'oilproduction2d',\n",
    "       'oilstorage2d'])\n",
    "oil_df_forecast['oilrig_count1d'] = (oil_df['oilrig_count'].iloc[-1]-oil_df['oilrig_count'].iloc[-2])+oil_df_forecast['oilrig_count2d'].cumsum()\n",
    "oil_df_forecast['oilrig_forecast'] = oil_df['oilrig_count'].iloc[-1] + oil_df_forecast['oilrig_count1d'].cumsum()\n",
    "executionperiod = (time.time() - startperiod)\n",
    "print('Execution period in seconds: ' + str(executionperiod))"
   ]
  },
  {
   "cell_type": "code",
   "execution_count": 59,
   "id": "0e044bb9",
   "metadata": {},
   "outputs": [
    {
     "data": {
      "text/plain": [
       "<AxesSubplot: title={'center': 'Oil Rig Count Prediction: REAL FORECAST - VAR Model'}>"
      ]
     },
     "execution_count": 59,
     "metadata": {},
     "output_type": "execute_result"
    },
    {
     "data": {
      "image/png": "[encoded data removed]",
      "text/plain": [
       "<Figure size 432x432 with 1 Axes>"
      ]
     },
     "metadata": {
      "needs_background": "light"
     },
     "output_type": "display_data"
    }
   ],
   "source": [
    "oil_df['oilrig_count'].loc['2017':].plot(legend=True)\n",
    "oil_df_forecast['oilrig_forecast'].plot(legend=True,linewidth=3,title='Oil Rig Count Prediction: REAL FORECAST - VAR Model')"
   ]
  }
 ],
 "metadata": {
  "kernelspec": {
   "display_name": "SLB",
   "language": "python",
   "name": "slb"
  },
  "language_info": {
   "codemirror_mode": {
    "name": "ipython",
    "version": 3
   },
   "file_extension": ".py",
   "mimetype": "text/x-python",
   "name": "python",
   "nbconvert_exporter": "python",
   "pygments_lexer": "ipython3",
   "version": "3.10.4"
  }
 },
 "nbformat": 4,
 "nbformat_minor": 5
}
