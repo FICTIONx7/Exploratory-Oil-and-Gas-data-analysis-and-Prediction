{
 "cells": [
  {
   "cell_type": "markdown",
   "id": "d60c2314",
   "metadata": {},
   "source": [
    "# ARIMA model"
   ]
  },
  {
   "cell_type": "code",
   "execution_count": 46,
   "id": "7d37d6f4",
   "metadata": {},
   "outputs": [],
   "source": [
    "#importing libraries and tools\n",
    "import numpy as np\n",
    "import pandas as pd\n",
    "import matplotlib.pyplot as plt\n",
    "import seaborn as sns\n",
    "\n",
    "from statsmodels.tsa.arima.model import ARIMA,ARIMAResults\n",
    "from statsmodels.tsa.statespace.sarimax import SARIMAX\n",
    "from statsmodels.tsa.seasonal import seasonal_decompose\n",
    "from statsmodels.tools.eval_measures import rmse, mse, meanabs\n",
    "from sklearn.model_selection import TimeSeriesSplit\n",
    "import time\n",
    "from pmdarima import auto_arima\n",
    "from matplotlib import rcParams\n",
    "\n",
    "import warnings\n",
    "warnings.filterwarnings(\"ignore\")"
   ]
  },
  {
   "cell_type": "code",
   "execution_count": 47,
   "id": "1a097f9d",
   "metadata": {},
   "outputs": [],
   "source": [
    "# default plot size\n",
    "rcParams['figure.figsize'] = 8,8"
   ]
  },
  {
   "cell_type": "code",
   "execution_count": 48,
   "id": "387850be",
   "metadata": {},
   "outputs": [],
   "source": [
    "#Importing data from EIA(Energy Information Administration)\n",
    "oil_df = pd.read_csv('D:\\myDocuments\\oil project\\dfoil.csv', index_col=0,parse_dates=True)\n",
    "oil_df_transformed = pd.read_csv('D:\\myDocuments\\oil project\\dfoil_transformed.csv', index_col=0,parse_dates=True)"
   ]
  },
  {
   "cell_type": "code",
   "execution_count": 49,
   "id": "ad3bb190",
   "metadata": {},
   "outputs": [
    {
     "data": {
      "text/html": [
       "<div>\n",
       "<style scoped>\n",
       "    .dataframe tbody tr th:only-of-type {\n",
       "        vertical-align: middle;\n",
       "    }\n",
       "\n",
       "    .dataframe tbody tr th {\n",
       "        vertical-align: top;\n",
       "    }\n",
       "\n",
       "    .dataframe thead th {\n",
       "        text-align: right;\n",
       "    }\n",
       "</style>\n",
       "<table border=\"1\" class=\"dataframe\">\n",
       "  <thead>\n",
       "    <tr style=\"text-align: right;\">\n",
       "      <th></th>\n",
       "      <th>oilrig_count</th>\n",
       "      <th>oil_price</th>\n",
       "      <th>oilconsumption</th>\n",
       "      <th>oilproduction</th>\n",
       "      <th>oilstorage</th>\n",
       "    </tr>\n",
       "  </thead>\n",
       "  <tbody>\n",
       "    <tr>\n",
       "      <th>1997-01-07</th>\n",
       "      <td>344.709677</td>\n",
       "      <td>26.250000</td>\n",
       "      <td>17352.142857</td>\n",
       "      <td>6479.714286</td>\n",
       "      <td>837012.285714</td>\n",
       "    </tr>\n",
       "    <tr>\n",
       "      <th>1997-01-08</th>\n",
       "      <td>345.161290</td>\n",
       "      <td>26.550000</td>\n",
       "      <td>17596.428571</td>\n",
       "      <td>6486.142857</td>\n",
       "      <td>837598.857143</td>\n",
       "    </tr>\n",
       "    <tr>\n",
       "      <th>1997-01-09</th>\n",
       "      <td>345.612903</td>\n",
       "      <td>26.300000</td>\n",
       "      <td>17840.714286</td>\n",
       "      <td>6492.571429</td>\n",
       "      <td>838185.428571</td>\n",
       "    </tr>\n",
       "    <tr>\n",
       "      <th>1997-01-10</th>\n",
       "      <td>346.064516</td>\n",
       "      <td>26.150000</td>\n",
       "      <td>18085.000000</td>\n",
       "      <td>6499.000000</td>\n",
       "      <td>838772.000000</td>\n",
       "    </tr>\n",
       "    <tr>\n",
       "      <th>1997-01-11</th>\n",
       "      <td>346.516129</td>\n",
       "      <td>25.833333</td>\n",
       "      <td>18160.571429</td>\n",
       "      <td>6495.714286</td>\n",
       "      <td>838473.000000</td>\n",
       "    </tr>\n",
       "  </tbody>\n",
       "</table>\n",
       "</div>"
      ],
      "text/plain": [
       "            oilrig_count  oil_price  oilconsumption  oilproduction  \\\n",
       "1997-01-07    344.709677  26.250000    17352.142857    6479.714286   \n",
       "1997-01-08    345.161290  26.550000    17596.428571    6486.142857   \n",
       "1997-01-09    345.612903  26.300000    17840.714286    6492.571429   \n",
       "1997-01-10    346.064516  26.150000    18085.000000    6499.000000   \n",
       "1997-01-11    346.516129  25.833333    18160.571429    6495.714286   \n",
       "\n",
       "               oilstorage  \n",
       "1997-01-07  837012.285714  \n",
       "1997-01-08  837598.857143  \n",
       "1997-01-09  838185.428571  \n",
       "1997-01-10  838772.000000  \n",
       "1997-01-11  838473.000000  "
      ]
     },
     "metadata": {},
     "output_type": "display_data"
    },
    {
     "data": {
      "text/html": [
       "<div>\n",
       "<style scoped>\n",
       "    .dataframe tbody tr th:only-of-type {\n",
       "        vertical-align: middle;\n",
       "    }\n",
       "\n",
       "    .dataframe tbody tr th {\n",
       "        vertical-align: top;\n",
       "    }\n",
       "\n",
       "    .dataframe thead th {\n",
       "        text-align: right;\n",
       "    }\n",
       "</style>\n",
       "<table border=\"1\" class=\"dataframe\">\n",
       "  <thead>\n",
       "    <tr style=\"text-align: right;\">\n",
       "      <th></th>\n",
       "      <th>oilrig_count</th>\n",
       "      <th>oil_price</th>\n",
       "      <th>oilconsumption</th>\n",
       "      <th>oilproduction</th>\n",
       "      <th>oilstorage</th>\n",
       "    </tr>\n",
       "  </thead>\n",
       "  <tbody>\n",
       "    <tr>\n",
       "      <th>1997-01-09</th>\n",
       "      <td>0.903226</td>\n",
       "      <td>0.050000</td>\n",
       "      <td>488.571429</td>\n",
       "      <td>12.857143</td>\n",
       "      <td>1173.142857</td>\n",
       "    </tr>\n",
       "    <tr>\n",
       "      <th>1997-01-10</th>\n",
       "      <td>0.903226</td>\n",
       "      <td>-0.400000</td>\n",
       "      <td>488.571429</td>\n",
       "      <td>12.857143</td>\n",
       "      <td>1173.142857</td>\n",
       "    </tr>\n",
       "    <tr>\n",
       "      <th>1997-01-11</th>\n",
       "      <td>0.903226</td>\n",
       "      <td>-0.466667</td>\n",
       "      <td>319.857143</td>\n",
       "      <td>3.142857</td>\n",
       "      <td>287.571429</td>\n",
       "    </tr>\n",
       "    <tr>\n",
       "      <th>1997-01-12</th>\n",
       "      <td>0.903226</td>\n",
       "      <td>-0.633333</td>\n",
       "      <td>151.142857</td>\n",
       "      <td>-6.571429</td>\n",
       "      <td>-598.000000</td>\n",
       "    </tr>\n",
       "    <tr>\n",
       "      <th>1997-01-13</th>\n",
       "      <td>0.903226</td>\n",
       "      <td>-0.633333</td>\n",
       "      <td>151.142857</td>\n",
       "      <td>-6.571429</td>\n",
       "      <td>-598.000000</td>\n",
       "    </tr>\n",
       "  </tbody>\n",
       "</table>\n",
       "</div>"
      ],
      "text/plain": [
       "            oilrig_count  oil_price  oilconsumption  oilproduction  \\\n",
       "1997-01-09      0.903226   0.050000      488.571429      12.857143   \n",
       "1997-01-10      0.903226  -0.400000      488.571429      12.857143   \n",
       "1997-01-11      0.903226  -0.466667      319.857143       3.142857   \n",
       "1997-01-12      0.903226  -0.633333      151.142857      -6.571429   \n",
       "1997-01-13      0.903226  -0.633333      151.142857      -6.571429   \n",
       "\n",
       "             oilstorage  \n",
       "1997-01-09  1173.142857  \n",
       "1997-01-10  1173.142857  \n",
       "1997-01-11   287.571429  \n",
       "1997-01-12  -598.000000  \n",
       "1997-01-13  -598.000000  "
      ]
     },
     "metadata": {},
     "output_type": "display_data"
    }
   ],
   "source": [
    "#overviewing dataframes\n",
    "display(oil_df.head(5))\n",
    "display(oil_df_transformed.head(5))"
   ]
  },
  {
   "cell_type": "markdown",
   "id": "ce8be0cd",
   "metadata": {},
   "source": [
    "OIL RIGS PREDICTION"
   ]
  },
  {
   "cell_type": "code",
   "execution_count": 50,
   "id": "a822d87b",
   "metadata": {},
   "outputs": [],
   "source": [
    "period = 12"
   ]
  },
  {
   "cell_type": "code",
   "execution_count": 51,
   "id": "682c1a0d",
   "metadata": {},
   "outputs": [
    {
     "name": "stdout",
     "output_type": "stream",
     "text": [
      "Performing stepwise search to minimize aic\n",
      " ARIMA(0,2,0)(1,0,1)[12]             : AIC=-7715.780, Time=0.88 sec\n",
      " ARIMA(0,2,0)(0,0,0)[12]             : AIC=-7719.780, Time=0.33 sec\n",
      " ARIMA(1,2,0)(1,0,0)[12]             : AIC=-7715.780, Time=1.15 sec\n",
      " ARIMA(0,2,1)(0,0,1)[12]             : AIC=-7715.780, Time=1.12 sec\n",
      " ARIMA(0,2,0)(1,0,0)[12]             : AIC=-7717.780, Time=0.88 sec\n",
      " ARIMA(0,2,0)(0,0,1)[12]             : AIC=-7717.780, Time=0.68 sec\n",
      " ARIMA(1,2,0)(0,0,0)[12]             : AIC=-7717.780, Time=0.40 sec\n",
      " ARIMA(0,2,1)(0,0,0)[12]             : AIC=-7717.780, Time=1.22 sec\n",
      " ARIMA(1,2,1)(0,0,0)[12]             : AIC=-7715.780, Time=0.51 sec\n",
      " ARIMA(0,2,0)(0,0,0)[12] intercept   : AIC=-7717.781, Time=0.69 sec\n",
      "\n",
      "Best model:  ARIMA(0,2,0)(0,0,0)[12]          \n",
      "Total fit time: 7.892 seconds\n"
     ]
    }
   ],
   "source": [
    "stepwise_fit = auto_arima(oil_df['oilrig_count'], start_p=0, start_q=0,\n",
    "                          max_p=6, max_q=3, m=period,\n",
    "                          seasonal=True,\n",
    "                          d=None, trace=True,\n",
    "                          error_action='ignore',   \n",
    "                          suppress_warnings=True,  \n",
    "                          stepwise=True)          "
   ]
  },
  {
   "cell_type": "markdown",
   "id": "e6b0b2a4",
   "metadata": {},
   "source": [
    "Splitting the data into train and test data set."
   ]
  },
  {
   "cell_type": "code",
   "execution_count": 52,
   "id": "6cc924f9",
   "metadata": {},
   "outputs": [],
   "source": [
    "train = oil_df.iloc[:len(oil_df)-period]\n",
    "test = oil_df.iloc[len(oil_df)-period:]"
   ]
  },
  {
   "cell_type": "markdown",
   "id": "b079f083",
   "metadata": {},
   "source": [
    "Training ARIMA model"
   ]
  },
  {
   "cell_type": "code",
   "execution_count": 53,
   "id": "0e632fc6",
   "metadata": {},
   "outputs": [],
   "source": [
    "oil_model = ARIMA(train['oilrig_count'],order=(0,2,0))\n",
    "oil_results = oil_model.fit()"
   ]
  },
  {
   "cell_type": "markdown",
   "id": "e24e2ca2",
   "metadata": {},
   "source": [
    "Sample Forecasting against known values"
   ]
  },
  {
   "cell_type": "code",
   "execution_count": 54,
   "id": "0de6f92c",
   "metadata": {},
   "outputs": [
    {
     "data": {
      "image/png": "[encoded data removed]",
      "text/plain": [
       "<Figure size 576x576 with 1 Axes>"
      ]
     },
     "metadata": {
      "needs_background": "light"
     },
     "output_type": "display_data"
    }
   ],
   "source": [
    "start=len(train)\n",
    "end=len(train)+len(test)-1\n",
    "oil_predictions = oil_results.predict(start=start, end=end, dynamic=False, typ='levels').rename('Oil Rig Count ARIMA(0,2,0) Predictions')\n",
    "\n",
    "# Plot predictions\n",
    "title = 'Oil Rig Count Predictions Vs Test Set - ARIMA'\n",
    "ylabel='Oil Rig Count'\n",
    "xlabel=''\n",
    "\n",
    "ax = oil_df['oilrig_count'].loc['2017':].plot(legend=True,title=title)\n",
    "oil_predictions.plot(legend=True)\n",
    "ax.autoscale(axis='x',tight=True)\n",
    "ax.set(xlabel=xlabel, ylabel=ylabel);"
   ]
  },
  {
   "cell_type": "markdown",
   "id": "cd6ba91c",
   "metadata": {},
   "source": [
    "Evaluating Model Performance"
   ]
  },
  {
   "cell_type": "code",
   "execution_count": 55,
   "id": "bb98e461",
   "metadata": {},
   "outputs": [
    {
     "name": "stdout",
     "output_type": "stream",
     "text": [
      "Oil Rig ARIMA(3,1,1) RMSE: 0.000\n",
      "Oil Rig ARIMA(0,2,0) MSE: 0.000\n",
      "Oil Rig ARIMA(0,2,0) MAE: 0.000\n",
      "\n",
      "Oil Rig Mean Value: 407.000\n",
      "Oil Rig std Value: 0.000\n",
      "Oil Rig Percent Change: 0.000%\n"
     ]
    }
   ],
   "source": [
    "RMSE1 = rmse(oil_df['oilrig_count'].loc[test.index.min():],oil_predictions)\n",
    "MSE1 = mse(oil_df['oilrig_count'].loc[test.index.min():],oil_predictions)\n",
    "MAE1 = meanabs(oil_df['oilrig_count'].loc[test.index.min():],oil_predictions)\n",
    "\n",
    "print(f\"\"\"Oil Rig ARIMA(3,1,1) RMSE: {RMSE1:.3f}\n",
    "Oil Rig ARIMA(0,2,0) MSE: {MSE1:.3f}\n",
    "Oil Rig ARIMA(0,2,0) MAE: {MAE1:.3f}\\n\n",
    "Oil Rig Mean Value: {oil_df['oilrig_count'][-period:].mean():.3f}\n",
    "Oil Rig std Value: {oil_df['oilrig_count'][-period:].std():.3f}\n",
    "Oil Rig Percent Change: {RMSE1/oil_df['oilrig_count'][-period:].mean()*100:.3f}%\"\"\")"
   ]
  },
  {
   "cell_type": "code",
   "execution_count": 56,
   "id": "29e369e6",
   "metadata": {},
   "outputs": [
    {
     "name": "stdout",
     "output_type": "stream",
     "text": [
      "TRAIN: 8938 TEST: 12\n",
      "TRAIN: 8950 TEST: 12\n",
      "TRAIN: 8962 TEST: 12\n",
      "TRAIN: 8974 TEST: 12\n",
      "TRAIN: 8986 TEST: 12\n",
      "TRAIN: 8998 TEST: 12\n",
      "TRAIN: 9010 TEST: 12\n",
      "TRAIN: 9022 TEST: 12\n",
      "TRAIN: 9034 TEST: 12\n",
      "TRAIN: 9046 TEST: 12\n",
      "\n",
      "10-fold Cross Validation Oil Rig\n",
      "RMSE: 0.134\n",
      "MSE: 0.076\n",
      "MAE: 0.087\n",
      "\n",
      "Oil Rig Mean Value: 407.000\n",
      "Oil Rig std Value: 0.000\n",
      "Oil Rig Percent Change: 0.033%\n"
     ]
    }
   ],
   "source": [
    "tscv = TimeSeriesSplit(n_splits=10, test_size=12)\n",
    "RMSE_oil = []\n",
    "MSE_oil = []\n",
    "MAE_oil = []\n",
    "for train_index, test_index in tscv.split(oil_df['oilrig_count']):\n",
    "    print(\"TRAIN:\", len(train_index), \"TEST:\", len(test_index))\n",
    "    train, test = oil_df['oilrig_count'][train_index], oil_df['oilrig_count'][test_index]\n",
    "    oil_model = ARIMA(train,order=(0,2,0))\n",
    "    oil_results = oil_model.fit()\n",
    "    start=len(train)\n",
    "    end=len(train)+len(test)-1\n",
    "    oil_predictions = oil_results.predict(start=start, end=end, dynamic=False, typ='levels')   \n",
    "    RMSE_oil.append('{:.3f}'.format(rmse(oil_df.loc[oil_df.index[test_index],'oilrig_count'],oil_predictions)))\n",
    "    MSE_oil.append('{:.3f}'.format(mse(oil_df.loc[oil_df.index[test_index],'oilrig_count'],oil_predictions)))\n",
    "    MAE_oil.append('{:.3f}'.format(meanabs(oil_df.loc[oil_df.index[test_index],'oilrig_count'],oil_predictions)))\n",
    "\n",
    "RMSE_oil = np.array(RMSE_oil).astype('float')\n",
    "MSE_oil = np.array(MSE_oil).astype('float')\n",
    "MAE_oil = np.array(MAE_oil).astype('float')\n",
    "print(f\"\"\"\\n10-fold Cross Validation Oil Rig\n",
    "RMSE: {RMSE_oil.mean():.3f}\n",
    "MSE: {MSE_oil.mean():.3f}\n",
    "MAE: {MAE_oil.mean():.3f}\\n\n",
    "Oil Rig Mean Value: {oil_df['oilrig_count'][-period:].mean():.3f}\n",
    "Oil Rig std Value: {oil_df['oilrig_count'][-period:].std():.3f}\n",
    "Oil Rig Percent Change: {RMSE_oil.mean()/oil_df['oilrig_count'][-period:].mean()*100:.3f}%\"\"\")"
   ]
  },
  {
   "cell_type": "markdown",
   "id": "366faca4",
   "metadata": {},
   "source": [
    "After Evaluation, Fitting Model with 100% data for Real Future Prediction"
   ]
  },
  {
   "cell_type": "code",
   "execution_count": 57,
   "id": "cd96f06d",
   "metadata": {},
   "outputs": [
    {
     "name": "stdout",
     "output_type": "stream",
     "text": [
      "Execution time in seconds: 0.3151569366455078\n"
     ]
    }
   ],
   "source": [
    "#fitting model\n",
    "startTime = time.time()\n",
    "oil_model = ARIMA(oil_df['oilrig_count'],order=(0,2,0))\n",
    "oil_results = oil_model.fit()\n",
    "\n",
    "start=len(oil_df)\n",
    "end=len(oil_df)+period\n",
    "oil_predictions = oil_results.predict(start=start, end=end, dynamic=False, typ='levels').rename('Oil Rig Count ARIMA(0,2,0) Predictions')\n",
    "executionTime = (time.time() - startTime)\n",
    "print('Execution time in seconds: ' + str(executionTime))"
   ]
  },
  {
   "cell_type": "code",
   "execution_count": 58,
   "id": "4035ae5c",
   "metadata": {},
   "outputs": [
    {
     "data": {
      "image/png": "[encoded data removed]",
      "text/plain": [
       "<Figure size 576x576 with 1 Axes>"
      ]
     },
     "metadata": {
      "needs_background": "light"
     },
     "output_type": "display_data"
    }
   ],
   "source": [
    "title = 'Oil Rig Count REAL Predictions - ARIMA'\n",
    "ylabel='Oil Rig Count'\n",
    "xlabel=''\n",
    "\n",
    "ax = oil_df['oilrig_count'].loc['2017':].plot(legend=True,title=title)\n",
    "oil_predictions.plot(legend=True)\n",
    "ax.autoscale(axis='x',tight=True)\n",
    "ax.set(xlabel=xlabel, ylabel=ylabel);"
   ]
  }
 ],
 "metadata": {
  "kernelspec": {
   "display_name": "SLB",
   "language": "python",
   "name": "slb"
  },
  "language_info": {
   "codemirror_mode": {
    "name": "ipython",
    "version": 3
   },
   "file_extension": ".py",
   "mimetype": "text/x-python",
   "name": "python",
   "nbconvert_exporter": "python",
   "pygments_lexer": "ipython3",
   "version": "3.10.4"
  }
 },
 "nbformat": 4,
 "nbformat_minor": 5
}
