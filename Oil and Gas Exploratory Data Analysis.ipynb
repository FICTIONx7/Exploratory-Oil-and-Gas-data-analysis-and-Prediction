{
 "cells": [
  {
   "cell_type": "markdown",
   "id": "d93e8d25",
   "metadata": {},
   "source": [
    "# Oil and Gas Exploratory Data Analysis"
   ]
  },
  {
   "cell_type": "raw",
   "id": "a5f0042f",
   "metadata": {},
   "source": [
    "NOTE: The following data is for the country of US as the same data for India could not be found.\n",
    "\n",
    "Obtained Data for:\n",
    "- oil price\n",
    "- gas price\n",
    "- oil rigs count- onshore and offshore\n",
    "- gas rigs count\n",
    "- oil well count\n",
    "- gas well count\n",
    "- oil import, export, production and consumption data for US\n",
    "- gas import, export, production and consumption data for US"
   ]
  },
  {
   "cell_type": "code",
   "execution_count": 4,
   "id": "23c5ea9f",
   "metadata": {},
   "outputs": [],
   "source": [
    "#importing required libraries\n",
    "import numpy as np\n",
    "import pandas as pd\n",
    "import matplotlib.pyplot as plt\n",
    "import seaborn as sns\n",
    "import requests"
   ]
  },
  {
   "cell_type": "markdown",
   "id": "a4f9da44",
   "metadata": {},
   "source": [
    "Importing historical Europe Brent oil price per barrel"
   ]
  },
  {
   "cell_type": "code",
   "execution_count": 5,
   "id": "e2b4bcf4",
   "metadata": {},
   "outputs": [],
   "source": [
    "#Importing data from EIA(Energy Information Administration)\n",
    "oil_price = pd.read_excel('D:\\myDocuments\\oil project\\Europe Brent Oil Price Per Barrel.xls','Data 1')"
   ]
  },
  {
   "cell_type": "code",
   "execution_count": 6,
   "id": "7fa782df",
   "metadata": {},
   "outputs": [],
   "source": [
    "#modifying the dataframe\n",
    "oil_price.drop(labels=[0,1],axis=0,inplace=True)\n",
    "oil_price.reset_index(inplace=True)\n",
    "oil_price.drop(labels=['index'],axis=1,inplace=True)\n",
    "oil_price.rename(columns = {'Back to Contents':'Date','Data 1: Europe Brent Spot Price FOB (Dollars per Barrel)':'Europe Brent Spot Price(Dollars per Barrel)'}, inplace = True)\n",
    "oil_df = oil_price.iloc[::-1]\n",
    "oil_df.reset_index(inplace=True)\n",
    "oil_df.drop(labels=['index'],axis=1,inplace=True)"
   ]
  },
  {
   "cell_type": "code",
   "execution_count": 7,
   "id": "c60c8743",
   "metadata": {},
   "outputs": [
    {
     "data": {
      "text/html": [
       "<div>\n",
       "<style scoped>\n",
       "    .dataframe tbody tr th:only-of-type {\n",
       "        vertical-align: middle;\n",
       "    }\n",
       "\n",
       "    .dataframe tbody tr th {\n",
       "        vertical-align: top;\n",
       "    }\n",
       "\n",
       "    .dataframe thead th {\n",
       "        text-align: right;\n",
       "    }\n",
       "</style>\n",
       "<table border=\"1\" class=\"dataframe\">\n",
       "  <thead>\n",
       "    <tr style=\"text-align: right;\">\n",
       "      <th></th>\n",
       "      <th>Date</th>\n",
       "      <th>Europe Brent Spot Price(Dollars per Barrel)</th>\n",
       "    </tr>\n",
       "  </thead>\n",
       "  <tbody>\n",
       "    <tr>\n",
       "      <th>0</th>\n",
       "      <td>2022-11-07 00:00:00</td>\n",
       "      <td>99.87</td>\n",
       "    </tr>\n",
       "    <tr>\n",
       "      <th>1</th>\n",
       "      <td>2022-11-04 00:00:00</td>\n",
       "      <td>99.53</td>\n",
       "    </tr>\n",
       "    <tr>\n",
       "      <th>2</th>\n",
       "      <td>2022-11-03 00:00:00</td>\n",
       "      <td>95.29</td>\n",
       "    </tr>\n",
       "    <tr>\n",
       "      <th>3</th>\n",
       "      <td>2022-11-02 00:00:00</td>\n",
       "      <td>96.07</td>\n",
       "    </tr>\n",
       "    <tr>\n",
       "      <th>4</th>\n",
       "      <td>2022-11-01 00:00:00</td>\n",
       "      <td>95.12</td>\n",
       "    </tr>\n",
       "  </tbody>\n",
       "</table>\n",
       "</div>"
      ],
      "text/plain": [
       "                  Date Europe Brent Spot Price(Dollars per Barrel)\n",
       "0  2022-11-07 00:00:00                                       99.87\n",
       "1  2022-11-04 00:00:00                                       99.53\n",
       "2  2022-11-03 00:00:00                                       95.29\n",
       "3  2022-11-02 00:00:00                                       96.07\n",
       "4  2022-11-01 00:00:00                                       95.12"
      ]
     },
     "execution_count": 7,
     "metadata": {},
     "output_type": "execute_result"
    }
   ],
   "source": [
    "#overview of updated dataframe\n",
    "oil_df.dropna(inplace=True)\n",
    "oil_df.head(5)"
   ]
  },
  {
   "cell_type": "markdown",
   "id": "8c5b6d22",
   "metadata": {},
   "source": [
    "Importing Historical Henry Hub Natural Gas spot price"
   ]
  },
  {
   "cell_type": "code",
   "execution_count": 8,
   "id": "1f59ff9e",
   "metadata": {},
   "outputs": [],
   "source": [
    "#Importing data from EIA(Energy Information Administration)\n",
    "gas_price = pd.read_excel(r'D:\\myDocuments\\oil project\\Natural gas spot price.xls','Data 1')"
   ]
  },
  {
   "cell_type": "code",
   "execution_count": 9,
   "id": "2e3548f2",
   "metadata": {},
   "outputs": [],
   "source": [
    "#modifying the dataframe\n",
    "gas_price.drop(labels=[0,1],axis=0,inplace=True)\n",
    "gas_price.reset_index(inplace=True)\n",
    "gas_price.drop(labels=['index'],axis=1,inplace=True)\n",
    "gas_price.rename(columns = {'Back to Contents':'Date','Data 1: Spot Price':'Henry Hub Natural Gas spot price(Dollars per Million Btu)'}, inplace = True)\n",
    "gas_df = gas_price.iloc[::-1]\n",
    "gas_df.reset_index(inplace=True)\n",
    "gas_df.drop(labels=['index'],axis=1,inplace=True)"
   ]
  },
  {
   "cell_type": "code",
   "execution_count": 10,
   "id": "30f76ddb",
   "metadata": {},
   "outputs": [
    {
     "data": {
      "text/html": [
       "<div>\n",
       "<style scoped>\n",
       "    .dataframe tbody tr th:only-of-type {\n",
       "        vertical-align: middle;\n",
       "    }\n",
       "\n",
       "    .dataframe tbody tr th {\n",
       "        vertical-align: top;\n",
       "    }\n",
       "\n",
       "    .dataframe thead th {\n",
       "        text-align: right;\n",
       "    }\n",
       "</style>\n",
       "<table border=\"1\" class=\"dataframe\">\n",
       "  <thead>\n",
       "    <tr style=\"text-align: right;\">\n",
       "      <th></th>\n",
       "      <th>Date</th>\n",
       "      <th>Henry Hub Natural Gas spot price(Dollars per Million Btu)</th>\n",
       "    </tr>\n",
       "  </thead>\n",
       "  <tbody>\n",
       "    <tr>\n",
       "      <th>0</th>\n",
       "      <td>2022-11-08 00:00:00</td>\n",
       "      <td>4</td>\n",
       "    </tr>\n",
       "    <tr>\n",
       "      <th>1</th>\n",
       "      <td>2022-11-07 00:00:00</td>\n",
       "      <td>4.62</td>\n",
       "    </tr>\n",
       "    <tr>\n",
       "      <th>2</th>\n",
       "      <td>2022-11-04 00:00:00</td>\n",
       "      <td>4</td>\n",
       "    </tr>\n",
       "    <tr>\n",
       "      <th>3</th>\n",
       "      <td>2022-11-03 00:00:00</td>\n",
       "      <td>4.65</td>\n",
       "    </tr>\n",
       "    <tr>\n",
       "      <th>4</th>\n",
       "      <td>2022-11-02 00:00:00</td>\n",
       "      <td>4.58</td>\n",
       "    </tr>\n",
       "  </tbody>\n",
       "</table>\n",
       "</div>"
      ],
      "text/plain": [
       "                  Date  \\\n",
       "0  2022-11-08 00:00:00   \n",
       "1  2022-11-07 00:00:00   \n",
       "2  2022-11-04 00:00:00   \n",
       "3  2022-11-03 00:00:00   \n",
       "4  2022-11-02 00:00:00   \n",
       "\n",
       "  Henry Hub Natural Gas spot price(Dollars per Million Btu)  \n",
       "0                                                  4         \n",
       "1                                               4.62         \n",
       "2                                                  4         \n",
       "3                                               4.65         \n",
       "4                                               4.58         "
      ]
     },
     "execution_count": 10,
     "metadata": {},
     "output_type": "execute_result"
    }
   ],
   "source": [
    "#overview of updated dataframe\n",
    "gas_df.dropna(inplace=True)\n",
    "gas_df.head()"
   ]
  },
  {
   "cell_type": "markdown",
   "id": "1021d9ce",
   "metadata": {},
   "source": [
    "Importing oil rig count data"
   ]
  },
  {
   "cell_type": "code",
   "execution_count": 11,
   "id": "4d4c02c7",
   "metadata": {},
   "outputs": [],
   "source": [
    "#Importing data from EIA(Energy Information Administration)\n",
    "oil_rig = pd.read_excel(r'D:\\myDocuments\\oil project\\Drilling data.xls','Data 3')"
   ]
  },
  {
   "cell_type": "code",
   "execution_count": 12,
   "id": "128741aa",
   "metadata": {},
   "outputs": [],
   "source": [
    "#modifying the dataframe\n",
    "oil_rig.drop(labels=[0,1],axis=0,inplace=True)\n",
    "oil_rig.reset_index(inplace=True)\n",
    "oil_rig.drop(labels=['index'],axis=1,inplace=True)\n",
    "oil_rig.rename(columns = {'Back to Contents':'Date','Data 3: By Type':'Crude oil rotary rigs in operation'}, inplace = True)\n",
    "oil_rig_df = oil_rig.iloc[::-1]\n",
    "oil_rig_df.reset_index(inplace=True)\n",
    "oil_rig_df.drop(labels=['index'],axis=1,inplace=True)\n",
    "oil_rig_df.drop(labels=['Unnamed: 2'],axis=1,inplace=True)"
   ]
  },
  {
   "cell_type": "code",
   "execution_count": 13,
   "id": "229672f2",
   "metadata": {},
   "outputs": [
    {
     "data": {
      "text/html": [
       "<div>\n",
       "<style scoped>\n",
       "    .dataframe tbody tr th:only-of-type {\n",
       "        vertical-align: middle;\n",
       "    }\n",
       "\n",
       "    .dataframe tbody tr th {\n",
       "        vertical-align: top;\n",
       "    }\n",
       "\n",
       "    .dataframe thead th {\n",
       "        text-align: right;\n",
       "    }\n",
       "</style>\n",
       "<table border=\"1\" class=\"dataframe\">\n",
       "  <thead>\n",
       "    <tr style=\"text-align: right;\">\n",
       "      <th></th>\n",
       "      <th>Date</th>\n",
       "      <th>Crude oil rotary rigs in operation</th>\n",
       "    </tr>\n",
       "  </thead>\n",
       "  <tbody>\n",
       "    <tr>\n",
       "      <th>0</th>\n",
       "      <td>2022-08-15 00:00:00</td>\n",
       "      <td>601</td>\n",
       "    </tr>\n",
       "    <tr>\n",
       "      <th>1</th>\n",
       "      <td>2022-07-15 00:00:00</td>\n",
       "      <td>599</td>\n",
       "    </tr>\n",
       "    <tr>\n",
       "      <th>2</th>\n",
       "      <td>2022-06-15 00:00:00</td>\n",
       "      <td>583</td>\n",
       "    </tr>\n",
       "    <tr>\n",
       "      <th>3</th>\n",
       "      <td>2022-05-15 00:00:00</td>\n",
       "      <td>568</td>\n",
       "    </tr>\n",
       "    <tr>\n",
       "      <th>4</th>\n",
       "      <td>2022-04-15 00:00:00</td>\n",
       "      <td>546</td>\n",
       "    </tr>\n",
       "  </tbody>\n",
       "</table>\n",
       "</div>"
      ],
      "text/plain": [
       "                  Date Crude oil rotary rigs in operation\n",
       "0  2022-08-15 00:00:00                                601\n",
       "1  2022-07-15 00:00:00                                599\n",
       "2  2022-06-15 00:00:00                                583\n",
       "3  2022-05-15 00:00:00                                568\n",
       "4  2022-04-15 00:00:00                                546"
      ]
     },
     "execution_count": 13,
     "metadata": {},
     "output_type": "execute_result"
    }
   ],
   "source": [
    "#overview of updated dataframe\n",
    "oil_rig_df.dropna(inplace=True)\n",
    "oil_rig_df.head(5)"
   ]
  },
  {
   "cell_type": "markdown",
   "id": "5717f530",
   "metadata": {},
   "source": [
    "Importing Natural Gas Rig count data"
   ]
  },
  {
   "cell_type": "code",
   "execution_count": 14,
   "id": "a6ad9541",
   "metadata": {},
   "outputs": [],
   "source": [
    "#Importing data from EIA(Energy Information Administration)\n",
    "gas_rig = pd.read_excel(r'D:\\myDocuments\\oil project\\Drilling data.xls','Data 3')"
   ]
  },
  {
   "cell_type": "code",
   "execution_count": 15,
   "id": "dc63f791",
   "metadata": {},
   "outputs": [],
   "source": [
    "#modifying the dataframe\n",
    "gas_rig.drop(labels=[0,1],axis=0,inplace=True)\n",
    "gas_rig.reset_index(inplace=True)\n",
    "gas_rig.drop(labels=['index'],axis=1,inplace=True)\n",
    "gas_rig.rename(columns = {'Back to Contents':'Date','Unnamed: 2':'Natural gas rotary rigs in operation'}, inplace = True)\n",
    "gas_rig_df = gas_rig.iloc[::-1]\n",
    "gas_rig_df.reset_index(inplace=True)\n",
    "gas_rig_df.drop(labels=['index'],axis=1,inplace=True)\n",
    "gas_rig_df.drop(labels=['Data 3: By Type'],axis=1,inplace=True)"
   ]
  },
  {
   "cell_type": "code",
   "execution_count": 16,
   "id": "dca37754",
   "metadata": {},
   "outputs": [
    {
     "data": {
      "text/html": [
       "<div>\n",
       "<style scoped>\n",
       "    .dataframe tbody tr th:only-of-type {\n",
       "        vertical-align: middle;\n",
       "    }\n",
       "\n",
       "    .dataframe tbody tr th {\n",
       "        vertical-align: top;\n",
       "    }\n",
       "\n",
       "    .dataframe thead th {\n",
       "        text-align: right;\n",
       "    }\n",
       "</style>\n",
       "<table border=\"1\" class=\"dataframe\">\n",
       "  <thead>\n",
       "    <tr style=\"text-align: right;\">\n",
       "      <th></th>\n",
       "      <th>Date</th>\n",
       "      <th>Natural gas rotary rigs in operation</th>\n",
       "    </tr>\n",
       "  </thead>\n",
       "  <tbody>\n",
       "    <tr>\n",
       "      <th>0</th>\n",
       "      <td>2022-08-15 00:00:00</td>\n",
       "      <td>160</td>\n",
       "    </tr>\n",
       "    <tr>\n",
       "      <th>1</th>\n",
       "      <td>2022-07-15 00:00:00</td>\n",
       "      <td>154</td>\n",
       "    </tr>\n",
       "    <tr>\n",
       "      <th>2</th>\n",
       "      <td>2022-06-15 00:00:00</td>\n",
       "      <td>153</td>\n",
       "    </tr>\n",
       "    <tr>\n",
       "      <th>3</th>\n",
       "      <td>2022-05-15 00:00:00</td>\n",
       "      <td>149</td>\n",
       "    </tr>\n",
       "    <tr>\n",
       "      <th>4</th>\n",
       "      <td>2022-04-15 00:00:00</td>\n",
       "      <td>142</td>\n",
       "    </tr>\n",
       "  </tbody>\n",
       "</table>\n",
       "</div>"
      ],
      "text/plain": [
       "                  Date Natural gas rotary rigs in operation\n",
       "0  2022-08-15 00:00:00                                  160\n",
       "1  2022-07-15 00:00:00                                  154\n",
       "2  2022-06-15 00:00:00                                  153\n",
       "3  2022-05-15 00:00:00                                  149\n",
       "4  2022-04-15 00:00:00                                  142"
      ]
     },
     "execution_count": 16,
     "metadata": {},
     "output_type": "execute_result"
    }
   ],
   "source": [
    "#overview of updated dataframe\n",
    "gas_rig_df.dropna(inplace=True)\n",
    "gas_rig_df.head(5)"
   ]
  },
  {
   "cell_type": "markdown",
   "id": "02c636b9",
   "metadata": {},
   "source": [
    "Total Rig Count "
   ]
  },
  {
   "cell_type": "code",
   "execution_count": 17,
   "id": "a231243a",
   "metadata": {},
   "outputs": [],
   "source": [
    "#Importing data from EIA(Energy Information Administration)\n",
    "total_rig = pd.read_excel(r'D:\\myDocuments\\oil project\\Drilling data.xls','Data 1')"
   ]
  },
  {
   "cell_type": "code",
   "execution_count": 18,
   "id": "be3c79bf",
   "metadata": {},
   "outputs": [],
   "source": [
    "#modifying the dataframe\n",
    "total_rig.drop(labels=[0,1],axis=0,inplace=True)\n",
    "total_rig.reset_index(inplace=True)\n",
    "total_rig.drop(labels=['index'],axis=1,inplace=True)\n",
    "total_rig.rename(columns = {'Back to Contents':'Date','Data 1: Rotary Rigs in Operation':'Total Rotary Rigs in operation'}, inplace = True)\n",
    "total_rig_df = total_rig.iloc[::-1]\n",
    "total_rig_df.reset_index(inplace=True)\n",
    "total_rig_df.drop(labels=['index'],axis=1,inplace=True)"
   ]
  },
  {
   "cell_type": "code",
   "execution_count": 19,
   "id": "eff5ab8e",
   "metadata": {},
   "outputs": [
    {
     "data": {
      "text/html": [
       "<div>\n",
       "<style scoped>\n",
       "    .dataframe tbody tr th:only-of-type {\n",
       "        vertical-align: middle;\n",
       "    }\n",
       "\n",
       "    .dataframe tbody tr th {\n",
       "        vertical-align: top;\n",
       "    }\n",
       "\n",
       "    .dataframe thead th {\n",
       "        text-align: right;\n",
       "    }\n",
       "</style>\n",
       "<table border=\"1\" class=\"dataframe\">\n",
       "  <thead>\n",
       "    <tr style=\"text-align: right;\">\n",
       "      <th></th>\n",
       "      <th>Date</th>\n",
       "      <th>Total Rotary Rigs in operation</th>\n",
       "    </tr>\n",
       "  </thead>\n",
       "  <tbody>\n",
       "    <tr>\n",
       "      <th>0</th>\n",
       "      <td>2022-08-15 00:00:00</td>\n",
       "      <td>764</td>\n",
       "    </tr>\n",
       "    <tr>\n",
       "      <th>1</th>\n",
       "      <td>2022-07-15 00:00:00</td>\n",
       "      <td>757</td>\n",
       "    </tr>\n",
       "    <tr>\n",
       "      <th>2</th>\n",
       "      <td>2022-06-15 00:00:00</td>\n",
       "      <td>738</td>\n",
       "    </tr>\n",
       "    <tr>\n",
       "      <th>3</th>\n",
       "      <td>2022-05-15 00:00:00</td>\n",
       "      <td>719</td>\n",
       "    </tr>\n",
       "    <tr>\n",
       "      <th>4</th>\n",
       "      <td>2022-04-15 00:00:00</td>\n",
       "      <td>690</td>\n",
       "    </tr>\n",
       "  </tbody>\n",
       "</table>\n",
       "</div>"
      ],
      "text/plain": [
       "                  Date Total Rotary Rigs in operation\n",
       "0  2022-08-15 00:00:00                            764\n",
       "1  2022-07-15 00:00:00                            757\n",
       "2  2022-06-15 00:00:00                            738\n",
       "3  2022-05-15 00:00:00                            719\n",
       "4  2022-04-15 00:00:00                            690"
      ]
     },
     "execution_count": 19,
     "metadata": {},
     "output_type": "execute_result"
    }
   ],
   "source": [
    "#overview of updated dataframe\n",
    "total_rig_df.dropna(inplace=True)\n",
    "total_rig_df.head(5)"
   ]
  },
  {
   "cell_type": "markdown",
   "id": "fd65ede5",
   "metadata": {},
   "source": [
    "Total Rig count based on ONSHORE or OFFSHORE"
   ]
  },
  {
   "cell_type": "markdown",
   "id": "d491a15f",
   "metadata": {},
   "source": [
    "Total Onshore Rig Count"
   ]
  },
  {
   "cell_type": "code",
   "execution_count": 20,
   "id": "b296e8b0",
   "metadata": {},
   "outputs": [],
   "source": [
    "#Importing data from EIA(Energy Information Administration)\n",
    "onshore_rig = pd.read_excel(r'D:\\myDocuments\\oil project\\Drilling data.xls','Data 2')"
   ]
  },
  {
   "cell_type": "code",
   "execution_count": 21,
   "id": "2ca71a9f",
   "metadata": {},
   "outputs": [],
   "source": [
    "#modifying the dataframe\n",
    "onshore_rig.drop(labels=[0,1],axis=0,inplace=True)\n",
    "onshore_rig.reset_index(inplace=True)\n",
    "onshore_rig.drop(labels=['index'],axis=1,inplace=True)\n",
    "onshore_rig.rename(columns = {'Back to Contents':'Date','Data 2: By Site':'Total Onshore Rotary Rigs in operation'}, inplace = True)\n",
    "onshore_rig_df = onshore_rig.iloc[::-1]\n",
    "onshore_rig_df.reset_index(inplace=True)\n",
    "onshore_rig_df.drop(labels=['index'],axis=1,inplace=True)\n",
    "onshore_rig_df.drop(labels=['Unnamed: 2'],axis=1,inplace=True)"
   ]
  },
  {
   "cell_type": "code",
   "execution_count": 22,
   "id": "7e335091",
   "metadata": {},
   "outputs": [
    {
     "data": {
      "text/html": [
       "<div>\n",
       "<style scoped>\n",
       "    .dataframe tbody tr th:only-of-type {\n",
       "        vertical-align: middle;\n",
       "    }\n",
       "\n",
       "    .dataframe tbody tr th {\n",
       "        vertical-align: top;\n",
       "    }\n",
       "\n",
       "    .dataframe thead th {\n",
       "        text-align: right;\n",
       "    }\n",
       "</style>\n",
       "<table border=\"1\" class=\"dataframe\">\n",
       "  <thead>\n",
       "    <tr style=\"text-align: right;\">\n",
       "      <th></th>\n",
       "      <th>Date</th>\n",
       "      <th>Total Onshore Rotary Rigs in operation</th>\n",
       "    </tr>\n",
       "  </thead>\n",
       "  <tbody>\n",
       "    <tr>\n",
       "      <th>0</th>\n",
       "      <td>2022-08-15 00:00:00</td>\n",
       "      <td>746</td>\n",
       "    </tr>\n",
       "    <tr>\n",
       "      <th>1</th>\n",
       "      <td>2022-07-15 00:00:00</td>\n",
       "      <td>740</td>\n",
       "    </tr>\n",
       "    <tr>\n",
       "      <th>2</th>\n",
       "      <td>2022-06-15 00:00:00</td>\n",
       "      <td>723</td>\n",
       "    </tr>\n",
       "    <tr>\n",
       "      <th>3</th>\n",
       "      <td>2022-05-15 00:00:00</td>\n",
       "      <td>701</td>\n",
       "    </tr>\n",
       "    <tr>\n",
       "      <th>4</th>\n",
       "      <td>2022-04-15 00:00:00</td>\n",
       "      <td>677</td>\n",
       "    </tr>\n",
       "  </tbody>\n",
       "</table>\n",
       "</div>"
      ],
      "text/plain": [
       "                  Date Total Onshore Rotary Rigs in operation\n",
       "0  2022-08-15 00:00:00                                    746\n",
       "1  2022-07-15 00:00:00                                    740\n",
       "2  2022-06-15 00:00:00                                    723\n",
       "3  2022-05-15 00:00:00                                    701\n",
       "4  2022-04-15 00:00:00                                    677"
      ]
     },
     "execution_count": 22,
     "metadata": {},
     "output_type": "execute_result"
    }
   ],
   "source": [
    "#overview of updated dataframe\n",
    "onshore_rig_df.dropna(inplace=True)\n",
    "onshore_rig_df.head(5)"
   ]
  },
  {
   "cell_type": "markdown",
   "id": "47613349",
   "metadata": {},
   "source": [
    "Total Offshore Rig Count"
   ]
  },
  {
   "cell_type": "code",
   "execution_count": 23,
   "id": "7fbec8fd",
   "metadata": {},
   "outputs": [],
   "source": [
    "#Importing data from EIA(Energy Information Administration)\n",
    "offshore_rig = pd.read_excel(r'D:\\myDocuments\\oil project\\Drilling data.xls','Data 2')"
   ]
  },
  {
   "cell_type": "code",
   "execution_count": 24,
   "id": "a989ef13",
   "metadata": {},
   "outputs": [],
   "source": [
    "#modifying the dataframe\n",
    "offshore_rig.drop(labels=[0,1],axis=0,inplace=True)\n",
    "offshore_rig.reset_index(inplace=True)\n",
    "offshore_rig.drop(labels=['index'],axis=1,inplace=True)\n",
    "offshore_rig.rename(columns = {'Back to Contents':'Date','Unnamed: 2':'Total Offshore Rotary Rigs in operation'}, inplace = True)\n",
    "offshore_rig_df = offshore_rig.iloc[::-1]\n",
    "offshore_rig_df.reset_index(inplace=True)\n",
    "offshore_rig_df.drop(labels=['index'],axis=1,inplace=True)\n",
    "offshore_rig_df.drop(labels=['Data 2: By Site'],axis=1,inplace=True)"
   ]
  },
  {
   "cell_type": "code",
   "execution_count": 25,
   "id": "6fc2e3b8",
   "metadata": {},
   "outputs": [
    {
     "data": {
      "text/html": [
       "<div>\n",
       "<style scoped>\n",
       "    .dataframe tbody tr th:only-of-type {\n",
       "        vertical-align: middle;\n",
       "    }\n",
       "\n",
       "    .dataframe tbody tr th {\n",
       "        vertical-align: top;\n",
       "    }\n",
       "\n",
       "    .dataframe thead th {\n",
       "        text-align: right;\n",
       "    }\n",
       "</style>\n",
       "<table border=\"1\" class=\"dataframe\">\n",
       "  <thead>\n",
       "    <tr style=\"text-align: right;\">\n",
       "      <th></th>\n",
       "      <th>Date</th>\n",
       "      <th>Total Offshore Rotary Rigs in operation</th>\n",
       "    </tr>\n",
       "  </thead>\n",
       "  <tbody>\n",
       "    <tr>\n",
       "      <th>0</th>\n",
       "      <td>2022-08-15 00:00:00</td>\n",
       "      <td>18</td>\n",
       "    </tr>\n",
       "    <tr>\n",
       "      <th>1</th>\n",
       "      <td>2022-07-15 00:00:00</td>\n",
       "      <td>16</td>\n",
       "    </tr>\n",
       "    <tr>\n",
       "      <th>2</th>\n",
       "      <td>2022-06-15 00:00:00</td>\n",
       "      <td>16</td>\n",
       "    </tr>\n",
       "    <tr>\n",
       "      <th>3</th>\n",
       "      <td>2022-05-15 00:00:00</td>\n",
       "      <td>17</td>\n",
       "    </tr>\n",
       "    <tr>\n",
       "      <th>4</th>\n",
       "      <td>2022-04-15 00:00:00</td>\n",
       "      <td>13</td>\n",
       "    </tr>\n",
       "  </tbody>\n",
       "</table>\n",
       "</div>"
      ],
      "text/plain": [
       "                  Date Total Offshore Rotary Rigs in operation\n",
       "0  2022-08-15 00:00:00                                      18\n",
       "1  2022-07-15 00:00:00                                      16\n",
       "2  2022-06-15 00:00:00                                      16\n",
       "3  2022-05-15 00:00:00                                      17\n",
       "4  2022-04-15 00:00:00                                      13"
      ]
     },
     "execution_count": 25,
     "metadata": {},
     "output_type": "execute_result"
    }
   ],
   "source": [
    "#overview of updated dataframe\n",
    "offshore_rig_df.dropna(inplace=True)\n",
    "offshore_rig_df.head(5)"
   ]
  },
  {
   "cell_type": "markdown",
   "id": "30075811",
   "metadata": {},
   "source": [
    "Total Well Count"
   ]
  },
  {
   "cell_type": "code",
   "execution_count": 26,
   "id": "534610b2",
   "metadata": {},
   "outputs": [],
   "source": [
    "#Importing data from EIA(Energy Information Administration)\n",
    "total_well = pd.read_excel(r'D:\\myDocuments\\oil project\\Well data.xls','Data 1')"
   ]
  },
  {
   "cell_type": "code",
   "execution_count": 27,
   "id": "fbdae7b8",
   "metadata": {},
   "outputs": [],
   "source": [
    "#modifying the dataframe\n",
    "total_well.drop(labels=[0,1],axis=0,inplace=True)\n",
    "total_well.reset_index(inplace=True)\n",
    "total_well.drop(labels=['index'],axis=1,inplace=True)\n",
    "total_well.rename(columns = {'Back to Contents':'Date','Data 1: Wells Drilled (Number)':'Total Wells Drilled(Count)'}, inplace = True)\n",
    "total_well_df = total_well.iloc[::-1]\n",
    "total_well_df.reset_index(inplace=True)\n",
    "total_well_df.drop(labels=['index'],axis=1,inplace=True)\n",
    "total_well_df = total_well_df.drop(total_well_df.columns[[2,3,4,5,6,7,8,9,10,11,12]], axis=1)\n",
    "total_well_df.dropna(inplace=True)\n",
    "total_well_df.reset_index(inplace=True)\n",
    "total_well_df.drop(labels=['index'],axis=1,inplace=True)"
   ]
  },
  {
   "cell_type": "code",
   "execution_count": 28,
   "id": "f99ab0cf",
   "metadata": {},
   "outputs": [
    {
     "data": {
      "text/html": [
       "<div>\n",
       "<style scoped>\n",
       "    .dataframe tbody tr th:only-of-type {\n",
       "        vertical-align: middle;\n",
       "    }\n",
       "\n",
       "    .dataframe tbody tr th {\n",
       "        vertical-align: top;\n",
       "    }\n",
       "\n",
       "    .dataframe thead th {\n",
       "        text-align: right;\n",
       "    }\n",
       "</style>\n",
       "<table border=\"1\" class=\"dataframe\">\n",
       "  <thead>\n",
       "    <tr style=\"text-align: right;\">\n",
       "      <th></th>\n",
       "      <th>Date</th>\n",
       "      <th>Total Wells Drilled(Count)</th>\n",
       "    </tr>\n",
       "  </thead>\n",
       "  <tbody>\n",
       "    <tr>\n",
       "      <th>0</th>\n",
       "      <td>2010-12-15 00:00:00</td>\n",
       "      <td>3158</td>\n",
       "    </tr>\n",
       "    <tr>\n",
       "      <th>1</th>\n",
       "      <td>2010-11-15 00:00:00</td>\n",
       "      <td>3294</td>\n",
       "    </tr>\n",
       "    <tr>\n",
       "      <th>2</th>\n",
       "      <td>2010-10-15 00:00:00</td>\n",
       "      <td>3527</td>\n",
       "    </tr>\n",
       "    <tr>\n",
       "      <th>3</th>\n",
       "      <td>2010-09-15 00:00:00</td>\n",
       "      <td>3218</td>\n",
       "    </tr>\n",
       "    <tr>\n",
       "      <th>4</th>\n",
       "      <td>2010-08-15 00:00:00</td>\n",
       "      <td>3404</td>\n",
       "    </tr>\n",
       "  </tbody>\n",
       "</table>\n",
       "</div>"
      ],
      "text/plain": [
       "                  Date Total Wells Drilled(Count)\n",
       "0  2010-12-15 00:00:00                       3158\n",
       "1  2010-11-15 00:00:00                       3294\n",
       "2  2010-10-15 00:00:00                       3527\n",
       "3  2010-09-15 00:00:00                       3218\n",
       "4  2010-08-15 00:00:00                       3404"
      ]
     },
     "execution_count": 28,
     "metadata": {},
     "output_type": "execute_result"
    }
   ],
   "source": [
    "#overview of updated dataframe\n",
    "total_well_df.dropna(inplace=True)\n",
    "total_well_df.head(5)"
   ]
  },
  {
   "cell_type": "markdown",
   "id": "b300b9fe",
   "metadata": {},
   "source": [
    "Oil Well Count"
   ]
  },
  {
   "cell_type": "code",
   "execution_count": 29,
   "id": "fe55659f",
   "metadata": {},
   "outputs": [],
   "source": [
    "#Importing data from EIA(Energy Information Administration)\n",
    "oil_well = pd.read_excel(r'D:\\myDocuments\\oil project\\Well data.xls','Data 1')"
   ]
  },
  {
   "cell_type": "code",
   "execution_count": 30,
   "id": "1f890f1e",
   "metadata": {},
   "outputs": [],
   "source": [
    "#modifying the dataframe\n",
    "oil_well.drop(labels=[0,1],axis=0,inplace=True)\n",
    "oil_well.reset_index(inplace=True)\n",
    "oil_well.drop(labels=['index'],axis=1,inplace=True)\n",
    "oil_well.rename(columns = {'Back to Contents':'Date','Unnamed: 2':'Oil Wells Drilled(Count)'}, inplace = True)\n",
    "oil_well_df = oil_well.iloc[::-1]\n",
    "oil_well_df.reset_index(inplace=True)\n",
    "oil_well_df.drop(labels=['index'],axis=1,inplace=True)\n",
    "oil_well_df = oil_well_df.drop(oil_well_df.columns[[1,3,4,5,6,7,8,9,10,11,12]], axis=1)\n",
    "oil_well_df.dropna(inplace=True)\n",
    "oil_well_df.reset_index(inplace=True)\n",
    "oil_well_df.drop(labels=['index'],axis=1,inplace=True)"
   ]
  },
  {
   "cell_type": "code",
   "execution_count": 31,
   "id": "244560f6",
   "metadata": {},
   "outputs": [
    {
     "data": {
      "text/html": [
       "<div>\n",
       "<style scoped>\n",
       "    .dataframe tbody tr th:only-of-type {\n",
       "        vertical-align: middle;\n",
       "    }\n",
       "\n",
       "    .dataframe tbody tr th {\n",
       "        vertical-align: top;\n",
       "    }\n",
       "\n",
       "    .dataframe thead th {\n",
       "        text-align: right;\n",
       "    }\n",
       "</style>\n",
       "<table border=\"1\" class=\"dataframe\">\n",
       "  <thead>\n",
       "    <tr style=\"text-align: right;\">\n",
       "      <th></th>\n",
       "      <th>Date</th>\n",
       "      <th>Oil Wells Drilled(Count)</th>\n",
       "    </tr>\n",
       "  </thead>\n",
       "  <tbody>\n",
       "    <tr>\n",
       "      <th>0</th>\n",
       "      <td>2010-12-15 00:00:00</td>\n",
       "      <td>1374</td>\n",
       "    </tr>\n",
       "    <tr>\n",
       "      <th>1</th>\n",
       "      <td>2010-11-15 00:00:00</td>\n",
       "      <td>1462</td>\n",
       "    </tr>\n",
       "    <tr>\n",
       "      <th>2</th>\n",
       "      <td>2010-10-15 00:00:00</td>\n",
       "      <td>1577</td>\n",
       "    </tr>\n",
       "    <tr>\n",
       "      <th>3</th>\n",
       "      <td>2010-09-15 00:00:00</td>\n",
       "      <td>1431</td>\n",
       "    </tr>\n",
       "    <tr>\n",
       "      <th>4</th>\n",
       "      <td>2010-08-15 00:00:00</td>\n",
       "      <td>1490</td>\n",
       "    </tr>\n",
       "  </tbody>\n",
       "</table>\n",
       "</div>"
      ],
      "text/plain": [
       "                  Date Oil Wells Drilled(Count)\n",
       "0  2010-12-15 00:00:00                     1374\n",
       "1  2010-11-15 00:00:00                     1462\n",
       "2  2010-10-15 00:00:00                     1577\n",
       "3  2010-09-15 00:00:00                     1431\n",
       "4  2010-08-15 00:00:00                     1490"
      ]
     },
     "execution_count": 31,
     "metadata": {},
     "output_type": "execute_result"
    }
   ],
   "source": [
    "#overview of updated dataframe\n",
    "oil_well_df.dropna(inplace=True)\n",
    "oil_well_df.head(5)"
   ]
  },
  {
   "cell_type": "markdown",
   "id": "0f73de72",
   "metadata": {},
   "source": [
    "Gas Wells Drilled"
   ]
  },
  {
   "cell_type": "code",
   "execution_count": 32,
   "id": "c648aaa7",
   "metadata": {},
   "outputs": [],
   "source": [
    "#Importing data from EIA(Energy Information Administration)\n",
    "gas_well = pd.read_excel(r'D:\\myDocuments\\oil project\\Well data.xls','Data 1')"
   ]
  },
  {
   "cell_type": "code",
   "execution_count": 33,
   "id": "5a8d7360",
   "metadata": {},
   "outputs": [],
   "source": [
    "#modifying the dataframe\n",
    "gas_well.drop(labels=[0,1],axis=0,inplace=True)\n",
    "gas_well.reset_index(inplace=True)\n",
    "gas_well.drop(labels=['index'],axis=1,inplace=True)\n",
    "gas_well.rename(columns = {'Back to Contents':'Date','Unnamed: 3':'Gas Wells Drilled(Count)'}, inplace = True)\n",
    "gas_well_df = gas_well.iloc[::-1]\n",
    "gas_well_df.reset_index(inplace=True)\n",
    "gas_well_df.drop(labels=['index'],axis=1,inplace=True)\n",
    "gas_well_df = gas_well_df.drop(gas_well_df.columns[[1,2,4,5,6,7,8,9,10,11,12]], axis=1)\n",
    "gas_well_df.dropna(inplace=True)\n",
    "gas_well_df.reset_index(inplace=True)\n",
    "gas_well_df.drop(labels=['index'],axis=1,inplace=True)"
   ]
  },
  {
   "cell_type": "code",
   "execution_count": 34,
   "id": "a6e28fe4",
   "metadata": {},
   "outputs": [
    {
     "data": {
      "text/html": [
       "<div>\n",
       "<style scoped>\n",
       "    .dataframe tbody tr th:only-of-type {\n",
       "        vertical-align: middle;\n",
       "    }\n",
       "\n",
       "    .dataframe tbody tr th {\n",
       "        vertical-align: top;\n",
       "    }\n",
       "\n",
       "    .dataframe thead th {\n",
       "        text-align: right;\n",
       "    }\n",
       "</style>\n",
       "<table border=\"1\" class=\"dataframe\">\n",
       "  <thead>\n",
       "    <tr style=\"text-align: right;\">\n",
       "      <th></th>\n",
       "      <th>Date</th>\n",
       "      <th>Gas Wells Drilled(Count)</th>\n",
       "    </tr>\n",
       "  </thead>\n",
       "  <tbody>\n",
       "    <tr>\n",
       "      <th>0</th>\n",
       "      <td>2010-12-15 00:00:00</td>\n",
       "      <td>1471</td>\n",
       "    </tr>\n",
       "    <tr>\n",
       "      <th>1</th>\n",
       "      <td>2010-11-15 00:00:00</td>\n",
       "      <td>1466</td>\n",
       "    </tr>\n",
       "    <tr>\n",
       "      <th>2</th>\n",
       "      <td>2010-10-15 00:00:00</td>\n",
       "      <td>1550</td>\n",
       "    </tr>\n",
       "    <tr>\n",
       "      <th>3</th>\n",
       "      <td>2010-09-15 00:00:00</td>\n",
       "      <td>1431</td>\n",
       "    </tr>\n",
       "    <tr>\n",
       "      <th>4</th>\n",
       "      <td>2010-08-15 00:00:00</td>\n",
       "      <td>1506</td>\n",
       "    </tr>\n",
       "  </tbody>\n",
       "</table>\n",
       "</div>"
      ],
      "text/plain": [
       "                  Date Gas Wells Drilled(Count)\n",
       "0  2010-12-15 00:00:00                     1471\n",
       "1  2010-11-15 00:00:00                     1466\n",
       "2  2010-10-15 00:00:00                     1550\n",
       "3  2010-09-15 00:00:00                     1431\n",
       "4  2010-08-15 00:00:00                     1506"
      ]
     },
     "execution_count": 34,
     "metadata": {},
     "output_type": "execute_result"
    }
   ],
   "source": [
    "#overview of updated dataframe\n",
    "gas_well_df.dropna(inplace=True)\n",
    "gas_well_df.head(5)"
   ]
  },
  {
   "cell_type": "markdown",
   "id": "f916b4f7",
   "metadata": {},
   "source": [
    "US crude oil import"
   ]
  },
  {
   "cell_type": "code",
   "execution_count": 35,
   "id": "3b87efb3",
   "metadata": {},
   "outputs": [],
   "source": [
    "#Importing data from EIA(Energy Information Administration)\n",
    "oil_import = pd.read_excel(r'D:\\myDocuments\\oil project\\US crude oil import.xls','Data 1')"
   ]
  },
  {
   "cell_type": "code",
   "execution_count": 36,
   "id": "bd6085e4",
   "metadata": {},
   "outputs": [],
   "source": [
    "#modifying the dataframe\n",
    "oil_import.drop(labels=[0,1],axis=0,inplace=True)\n",
    "oil_import.reset_index(inplace=True)\n",
    "oil_import.drop(labels=['index'],axis=1,inplace=True)\n",
    "oil_import_df = oil_import.iloc[::-1]\n",
    "oil_import_df = oil_import_df.filter(['Back to Contents', 'Unnamed: 2'])\n",
    "oil_import_df.reset_index(inplace=True)\n",
    "oil_import_df.drop(labels=['index'],axis=1,inplace=True)\n",
    "oil_import_df.rename(columns = {'Back to Contents':'Date','Unnamed: 2':'Oil imported(Thousand Barrels)'}, inplace = True)\n",
    "oil_import_df.dropna(inplace=True)\n",
    "oil_import_df.reset_index(inplace=True)\n",
    "oil_import_df.drop(labels=['index'],axis=1,inplace=True)"
   ]
  },
  {
   "cell_type": "code",
   "execution_count": 37,
   "id": "888e65a8",
   "metadata": {},
   "outputs": [
    {
     "data": {
      "text/html": [
       "<div>\n",
       "<style scoped>\n",
       "    .dataframe tbody tr th:only-of-type {\n",
       "        vertical-align: middle;\n",
       "    }\n",
       "\n",
       "    .dataframe tbody tr th {\n",
       "        vertical-align: top;\n",
       "    }\n",
       "\n",
       "    .dataframe thead th {\n",
       "        text-align: right;\n",
       "    }\n",
       "</style>\n",
       "<table border=\"1\" class=\"dataframe\">\n",
       "  <thead>\n",
       "    <tr style=\"text-align: right;\">\n",
       "      <th></th>\n",
       "      <th>Date</th>\n",
       "      <th>Oil imported(Thousand Barrels)</th>\n",
       "    </tr>\n",
       "  </thead>\n",
       "  <tbody>\n",
       "    <tr>\n",
       "      <th>0</th>\n",
       "      <td>2022-08-15 00:00:00</td>\n",
       "      <td>196232</td>\n",
       "    </tr>\n",
       "    <tr>\n",
       "      <th>1</th>\n",
       "      <td>2022-07-15 00:00:00</td>\n",
       "      <td>204719</td>\n",
       "    </tr>\n",
       "    <tr>\n",
       "      <th>2</th>\n",
       "      <td>2022-06-15 00:00:00</td>\n",
       "      <td>194195</td>\n",
       "    </tr>\n",
       "    <tr>\n",
       "      <th>3</th>\n",
       "      <td>2022-05-15 00:00:00</td>\n",
       "      <td>191050</td>\n",
       "    </tr>\n",
       "    <tr>\n",
       "      <th>4</th>\n",
       "      <td>2022-04-15 00:00:00</td>\n",
       "      <td>181770</td>\n",
       "    </tr>\n",
       "  </tbody>\n",
       "</table>\n",
       "</div>"
      ],
      "text/plain": [
       "                  Date Oil imported(Thousand Barrels)\n",
       "0  2022-08-15 00:00:00                         196232\n",
       "1  2022-07-15 00:00:00                         204719\n",
       "2  2022-06-15 00:00:00                         194195\n",
       "3  2022-05-15 00:00:00                         191050\n",
       "4  2022-04-15 00:00:00                         181770"
      ]
     },
     "execution_count": 37,
     "metadata": {},
     "output_type": "execute_result"
    }
   ],
   "source": [
    "#overview of updated dataframe\n",
    "oil_import_df.dropna(inplace=True)\n",
    "oil_import_df.head(5)"
   ]
  },
  {
   "cell_type": "markdown",
   "id": "2bcccd28",
   "metadata": {},
   "source": [
    "US crude oil export"
   ]
  },
  {
   "cell_type": "code",
   "execution_count": 38,
   "id": "6f644563",
   "metadata": {},
   "outputs": [],
   "source": [
    "#Importing data from EIA(Energy Information Administration)\n",
    "oil_export = pd.read_excel(r'D:\\myDocuments\\oil project\\US crude oil export.xls','Data 1')"
   ]
  },
  {
   "cell_type": "code",
   "execution_count": 39,
   "id": "1da47470",
   "metadata": {},
   "outputs": [],
   "source": [
    "#modifying the dataframe\n",
    "oil_export.drop(labels=[0,1],axis=0,inplace=True)\n",
    "oil_export.reset_index(inplace=True)\n",
    "oil_export.drop(labels=['index'],axis=1,inplace=True)\n",
    "oil_export_df = oil_export.iloc[::-1]\n",
    "oil_export_df = oil_export_df.filter(['Back to Contents', 'Unnamed: 2'])\n",
    "oil_export_df.reset_index(inplace=True)\n",
    "oil_export_df.drop(labels=['index'],axis=1,inplace=True)\n",
    "oil_export_df.rename(columns = {'Back to Contents':'Date','Unnamed: 2':'Oil exported(Thousand Barrels)'}, inplace = True)\n",
    "oil_export_df.dropna(inplace=True)\n",
    "oil_export_df.reset_index(inplace=True)\n",
    "oil_export_df.drop(labels=['index'],axis=1,inplace=True)"
   ]
  },
  {
   "cell_type": "code",
   "execution_count": 40,
   "id": "498fe68e",
   "metadata": {},
   "outputs": [
    {
     "data": {
      "text/html": [
       "<div>\n",
       "<style scoped>\n",
       "    .dataframe tbody tr th:only-of-type {\n",
       "        vertical-align: middle;\n",
       "    }\n",
       "\n",
       "    .dataframe tbody tr th {\n",
       "        vertical-align: top;\n",
       "    }\n",
       "\n",
       "    .dataframe thead th {\n",
       "        text-align: right;\n",
       "    }\n",
       "</style>\n",
       "<table border=\"1\" class=\"dataframe\">\n",
       "  <thead>\n",
       "    <tr style=\"text-align: right;\">\n",
       "      <th></th>\n",
       "      <th>Date</th>\n",
       "      <th>Oil exported(Thousand Barrels)</th>\n",
       "    </tr>\n",
       "  </thead>\n",
       "  <tbody>\n",
       "    <tr>\n",
       "      <th>0</th>\n",
       "      <td>2022-08-15 00:00:00</td>\n",
       "      <td>113235</td>\n",
       "    </tr>\n",
       "    <tr>\n",
       "      <th>1</th>\n",
       "      <td>2022-07-15 00:00:00</td>\n",
       "      <td>117665</td>\n",
       "    </tr>\n",
       "    <tr>\n",
       "      <th>2</th>\n",
       "      <td>2022-06-15 00:00:00</td>\n",
       "      <td>107153</td>\n",
       "    </tr>\n",
       "    <tr>\n",
       "      <th>3</th>\n",
       "      <td>2022-05-15 00:00:00</td>\n",
       "      <td>106707</td>\n",
       "    </tr>\n",
       "    <tr>\n",
       "      <th>4</th>\n",
       "      <td>2022-04-15 00:00:00</td>\n",
       "      <td>97177</td>\n",
       "    </tr>\n",
       "  </tbody>\n",
       "</table>\n",
       "</div>"
      ],
      "text/plain": [
       "                  Date Oil exported(Thousand Barrels)\n",
       "0  2022-08-15 00:00:00                         113235\n",
       "1  2022-07-15 00:00:00                         117665\n",
       "2  2022-06-15 00:00:00                         107153\n",
       "3  2022-05-15 00:00:00                         106707\n",
       "4  2022-04-15 00:00:00                          97177"
      ]
     },
     "execution_count": 40,
     "metadata": {},
     "output_type": "execute_result"
    }
   ],
   "source": [
    "#overview of updated dataframe\n",
    "oil_export_df.dropna(inplace=True)\n",
    "oil_export_df.head(5)"
   ]
  },
  {
   "cell_type": "markdown",
   "id": "3595547e",
   "metadata": {},
   "source": [
    "US crude oil production"
   ]
  },
  {
   "cell_type": "code",
   "execution_count": 41,
   "id": "b15cbad1",
   "metadata": {},
   "outputs": [],
   "source": [
    "#Importing data from EIA(Energy Information Administration)\n",
    "oil_produce = pd.read_excel(r'D:\\myDocuments\\oil project\\US crude oil production.xls','Data 1')"
   ]
  },
  {
   "cell_type": "code",
   "execution_count": 42,
   "id": "2d00c297",
   "metadata": {},
   "outputs": [],
   "source": [
    "#modifying the dataframe\n",
    "oil_produce.drop(labels=[0,1],axis=0,inplace=True)\n",
    "oil_produce.reset_index(inplace=True)\n",
    "oil_produce.drop(labels=['index'],axis=1,inplace=True)\n",
    "oil_produce_df = oil_produce.iloc[::-1]\n",
    "oil_produce_df = oil_produce_df.filter(['Back to Contents', 'Data 1: Crude Oil Production'])\n",
    "oil_produce_df.reset_index(inplace=True)\n",
    "oil_produce_df.drop(labels=['index'],axis=1,inplace=True)\n",
    "oil_produce_df.rename(columns = {'Back to Contents':'Date','Data 1: Crude Oil Production':'Oil produced(Thousand Barrels)'}, inplace = True)\n",
    "oil_produce_df.dropna(inplace=True)\n",
    "oil_produce_df.reset_index(inplace=True)\n",
    "oil_produce_df.drop(labels=['index'],axis=1,inplace=True)"
   ]
  },
  {
   "cell_type": "code",
   "execution_count": 43,
   "id": "3c4681d5",
   "metadata": {},
   "outputs": [
    {
     "data": {
      "text/html": [
       "<div>\n",
       "<style scoped>\n",
       "    .dataframe tbody tr th:only-of-type {\n",
       "        vertical-align: middle;\n",
       "    }\n",
       "\n",
       "    .dataframe tbody tr th {\n",
       "        vertical-align: top;\n",
       "    }\n",
       "\n",
       "    .dataframe thead th {\n",
       "        text-align: right;\n",
       "    }\n",
       "</style>\n",
       "<table border=\"1\" class=\"dataframe\">\n",
       "  <thead>\n",
       "    <tr style=\"text-align: right;\">\n",
       "      <th></th>\n",
       "      <th>Date</th>\n",
       "      <th>Oil produced(Thousand Barrels)</th>\n",
       "    </tr>\n",
       "  </thead>\n",
       "  <tbody>\n",
       "    <tr>\n",
       "      <th>0</th>\n",
       "      <td>2022-08-15 00:00:00</td>\n",
       "      <td>371233</td>\n",
       "    </tr>\n",
       "    <tr>\n",
       "      <th>1</th>\n",
       "      <td>2022-07-15 00:00:00</td>\n",
       "      <td>368077</td>\n",
       "    </tr>\n",
       "    <tr>\n",
       "      <th>2</th>\n",
       "      <td>2022-06-15 00:00:00</td>\n",
       "      <td>353918</td>\n",
       "    </tr>\n",
       "    <tr>\n",
       "      <th>3</th>\n",
       "      <td>2022-05-15 00:00:00</td>\n",
       "      <td>360503</td>\n",
       "    </tr>\n",
       "    <tr>\n",
       "      <th>4</th>\n",
       "      <td>2022-04-15 00:00:00</td>\n",
       "      <td>350052</td>\n",
       "    </tr>\n",
       "  </tbody>\n",
       "</table>\n",
       "</div>"
      ],
      "text/plain": [
       "                  Date Oil produced(Thousand Barrels)\n",
       "0  2022-08-15 00:00:00                         371233\n",
       "1  2022-07-15 00:00:00                         368077\n",
       "2  2022-06-15 00:00:00                         353918\n",
       "3  2022-05-15 00:00:00                         360503\n",
       "4  2022-04-15 00:00:00                         350052"
      ]
     },
     "execution_count": 43,
     "metadata": {},
     "output_type": "execute_result"
    }
   ],
   "source": [
    "#overview of updated dataframe\n",
    "oil_produce_df.dropna(inplace=True)\n",
    "oil_produce_df.head(5)"
   ]
  },
  {
   "cell_type": "markdown",
   "id": "0267d7cb",
   "metadata": {},
   "source": [
    "US crude oil consumption"
   ]
  },
  {
   "cell_type": "code",
   "execution_count": 44,
   "id": "0fb57470",
   "metadata": {},
   "outputs": [],
   "source": [
    "#Importing data from EIA(Energy Information Administration)\n",
    "oil_consume = pd.read_excel(r'D:\\myDocuments\\oil project\\US crude oil consumption.xls','Data 1')"
   ]
  },
  {
   "cell_type": "code",
   "execution_count": 45,
   "id": "dbc29e95",
   "metadata": {},
   "outputs": [],
   "source": [
    "#modifying the dataframe\n",
    "oil_consume.drop(labels=[0,1],axis=0,inplace=True)\n",
    "oil_consume.reset_index(inplace=True)\n",
    "oil_consume.drop(labels=['index'],axis=1,inplace=True)\n",
    "oil_consume_df = oil_consume.iloc[::-1]\n",
    "oil_consume_df = oil_consume_df.filter(['Back to Contents', 'Data 1: U.S. Product Supplied for Crude Oil and Petroleum Products'])\n",
    "oil_consume_df.reset_index(inplace=True)\n",
    "oil_consume_df.drop(labels=['index'],axis=1,inplace=True)\n",
    "oil_consume_df.rename(columns = {'Back to Contents':'Date','Data 1: U.S. Product Supplied for Crude Oil and Petroleum Products':'Oil consumed(Thousand Barrels)'}, inplace = True)\n",
    "oil_consume_df.dropna(inplace=True)\n",
    "oil_consume_df.reset_index(inplace=True)\n",
    "oil_consume_df.drop(labels=['index'],axis=1,inplace=True)"
   ]
  },
  {
   "cell_type": "code",
   "execution_count": 46,
   "id": "b820cc0f",
   "metadata": {},
   "outputs": [
    {
     "data": {
      "text/html": [
       "<div>\n",
       "<style scoped>\n",
       "    .dataframe tbody tr th:only-of-type {\n",
       "        vertical-align: middle;\n",
       "    }\n",
       "\n",
       "    .dataframe tbody tr th {\n",
       "        vertical-align: top;\n",
       "    }\n",
       "\n",
       "    .dataframe thead th {\n",
       "        text-align: right;\n",
       "    }\n",
       "</style>\n",
       "<table border=\"1\" class=\"dataframe\">\n",
       "  <thead>\n",
       "    <tr style=\"text-align: right;\">\n",
       "      <th></th>\n",
       "      <th>Date</th>\n",
       "      <th>Oil consumed(Thousand Barrels)</th>\n",
       "    </tr>\n",
       "  </thead>\n",
       "  <tbody>\n",
       "    <tr>\n",
       "      <th>0</th>\n",
       "      <td>2022-08-15 00:00:00</td>\n",
       "      <td>638632</td>\n",
       "    </tr>\n",
       "    <tr>\n",
       "      <th>1</th>\n",
       "      <td>2022-07-15 00:00:00</td>\n",
       "      <td>630696</td>\n",
       "    </tr>\n",
       "    <tr>\n",
       "      <th>2</th>\n",
       "      <td>2022-06-15 00:00:00</td>\n",
       "      <td>623159</td>\n",
       "    </tr>\n",
       "    <tr>\n",
       "      <th>3</th>\n",
       "      <td>2022-05-15 00:00:00</td>\n",
       "      <td>622381</td>\n",
       "    </tr>\n",
       "    <tr>\n",
       "      <th>4</th>\n",
       "      <td>2022-04-15 00:00:00</td>\n",
       "      <td>598721</td>\n",
       "    </tr>\n",
       "  </tbody>\n",
       "</table>\n",
       "</div>"
      ],
      "text/plain": [
       "                  Date Oil consumed(Thousand Barrels)\n",
       "0  2022-08-15 00:00:00                         638632\n",
       "1  2022-07-15 00:00:00                         630696\n",
       "2  2022-06-15 00:00:00                         623159\n",
       "3  2022-05-15 00:00:00                         622381\n",
       "4  2022-04-15 00:00:00                         598721"
      ]
     },
     "execution_count": 46,
     "metadata": {},
     "output_type": "execute_result"
    }
   ],
   "source": [
    "#overview of updated dataframe\n",
    "oil_consume_df.dropna(inplace=True)\n",
    "oil_consume_df.head(5)"
   ]
  },
  {
   "cell_type": "markdown",
   "id": "75a37167",
   "metadata": {},
   "source": [
    "US natural gas import"
   ]
  },
  {
   "cell_type": "code",
   "execution_count": 47,
   "id": "a525c1ff",
   "metadata": {},
   "outputs": [],
   "source": [
    "#Importing data from EIA(Energy Information Administration)\n",
    "gas_import = pd.read_excel(r'D:\\myDocuments\\oil project\\US gas import.xls','Data 1')"
   ]
  },
  {
   "cell_type": "code",
   "execution_count": 48,
   "id": "16996bc1",
   "metadata": {},
   "outputs": [],
   "source": [
    "#modifying the dataframe\n",
    "gas_import.drop(labels=[0,1],axis=0,inplace=True)\n",
    "gas_import.reset_index(inplace=True)\n",
    "gas_import.drop(labels=['index'],axis=1,inplace=True)\n",
    "gas_import_df = gas_import.iloc[::-1]\n",
    "gas_import_df = gas_import_df.filter(['Back to Contents', 'Data 1: Import Volumes'])\n",
    "gas_import_df.reset_index(inplace=True)\n",
    "gas_import_df.drop(labels=['index'],axis=1,inplace=True)\n",
    "gas_import_df.rename(columns = {'Back to Contents':'Date','Data 1: Import Volumes':'Gas imported(MMcf)'}, inplace = True)\n",
    "gas_import_df.dropna(inplace=True)\n",
    "gas_import_df.reset_index(inplace=True)\n",
    "gas_import_df.drop(labels=['index'],axis=1,inplace=True)"
   ]
  },
  {
   "cell_type": "code",
   "execution_count": 49,
   "id": "6b4403bc",
   "metadata": {},
   "outputs": [
    {
     "data": {
      "text/html": [
       "<div>\n",
       "<style scoped>\n",
       "    .dataframe tbody tr th:only-of-type {\n",
       "        vertical-align: middle;\n",
       "    }\n",
       "\n",
       "    .dataframe tbody tr th {\n",
       "        vertical-align: top;\n",
       "    }\n",
       "\n",
       "    .dataframe thead th {\n",
       "        text-align: right;\n",
       "    }\n",
       "</style>\n",
       "<table border=\"1\" class=\"dataframe\">\n",
       "  <thead>\n",
       "    <tr style=\"text-align: right;\">\n",
       "      <th></th>\n",
       "      <th>Date</th>\n",
       "      <th>Gas imported(MMcf)</th>\n",
       "    </tr>\n",
       "  </thead>\n",
       "  <tbody>\n",
       "    <tr>\n",
       "      <th>0</th>\n",
       "      <td>2022-08-15 00:00:00</td>\n",
       "      <td>235798</td>\n",
       "    </tr>\n",
       "    <tr>\n",
       "      <th>1</th>\n",
       "      <td>2022-07-15 00:00:00</td>\n",
       "      <td>257067</td>\n",
       "    </tr>\n",
       "    <tr>\n",
       "      <th>2</th>\n",
       "      <td>2022-06-15 00:00:00</td>\n",
       "      <td>228741</td>\n",
       "    </tr>\n",
       "    <tr>\n",
       "      <th>3</th>\n",
       "      <td>2022-05-15 00:00:00</td>\n",
       "      <td>230744</td>\n",
       "    </tr>\n",
       "    <tr>\n",
       "      <th>4</th>\n",
       "      <td>2022-04-15 00:00:00</td>\n",
       "      <td>244864</td>\n",
       "    </tr>\n",
       "  </tbody>\n",
       "</table>\n",
       "</div>"
      ],
      "text/plain": [
       "                  Date Gas imported(MMcf)\n",
       "0  2022-08-15 00:00:00             235798\n",
       "1  2022-07-15 00:00:00             257067\n",
       "2  2022-06-15 00:00:00             228741\n",
       "3  2022-05-15 00:00:00             230744\n",
       "4  2022-04-15 00:00:00             244864"
      ]
     },
     "execution_count": 49,
     "metadata": {},
     "output_type": "execute_result"
    }
   ],
   "source": [
    "#overview of updated dataframe\n",
    "gas_import_df.dropna(inplace=True)\n",
    "gas_import_df.head(5)"
   ]
  },
  {
   "cell_type": "markdown",
   "id": "cd6ac8f5",
   "metadata": {},
   "source": [
    "US natural gas export"
   ]
  },
  {
   "cell_type": "code",
   "execution_count": 50,
   "id": "d2fdbe60",
   "metadata": {},
   "outputs": [],
   "source": [
    "#Importing data from EIA(Energy Information Administration)\n",
    "gas_export = pd.read_excel(r'D:\\myDocuments\\oil project\\US gas export.xls','Data 1')"
   ]
  },
  {
   "cell_type": "code",
   "execution_count": 51,
   "id": "43fc9055",
   "metadata": {},
   "outputs": [],
   "source": [
    "#modifying the dataframe\n",
    "gas_export.drop(labels=[0,1],axis=0,inplace=True)\n",
    "gas_export.reset_index(inplace=True)\n",
    "gas_export.drop(labels=['index'],axis=1,inplace=True)\n",
    "gas_export_df = gas_export.iloc[::-1]\n",
    "gas_export_df = gas_export_df.filter(['Back to Contents', 'Data 1: U.S. Natural Gas Pipeline Exports by Point of Exit '])\n",
    "gas_export_df.reset_index(inplace=True)\n",
    "gas_export_df.drop(labels=['index'],axis=1,inplace=True)\n",
    "gas_export_df.rename(columns = {'Back to Contents':'Date','Data 1: U.S. Natural Gas Pipeline Exports by Point of Exit ':'Gas exported(MMcf)'}, inplace = True)\n",
    "gas_export_df.dropna(inplace=True)\n",
    "gas_export_df.reset_index(inplace=True)\n",
    "gas_export_df.drop(labels=['index'],axis=1,inplace=True)"
   ]
  },
  {
   "cell_type": "code",
   "execution_count": 52,
   "id": "36648db9",
   "metadata": {},
   "outputs": [
    {
     "data": {
      "text/html": [
       "<div>\n",
       "<style scoped>\n",
       "    .dataframe tbody tr th:only-of-type {\n",
       "        vertical-align: middle;\n",
       "    }\n",
       "\n",
       "    .dataframe tbody tr th {\n",
       "        vertical-align: top;\n",
       "    }\n",
       "\n",
       "    .dataframe thead th {\n",
       "        text-align: right;\n",
       "    }\n",
       "</style>\n",
       "<table border=\"1\" class=\"dataframe\">\n",
       "  <thead>\n",
       "    <tr style=\"text-align: right;\">\n",
       "      <th></th>\n",
       "      <th>Date</th>\n",
       "      <th>Gas exported(MMcf)</th>\n",
       "    </tr>\n",
       "  </thead>\n",
       "  <tbody>\n",
       "    <tr>\n",
       "      <th>0</th>\n",
       "      <td>2022-08-15 00:00:00</td>\n",
       "      <td>254542</td>\n",
       "    </tr>\n",
       "    <tr>\n",
       "      <th>1</th>\n",
       "      <td>2022-07-15 00:00:00</td>\n",
       "      <td>256080</td>\n",
       "    </tr>\n",
       "    <tr>\n",
       "      <th>2</th>\n",
       "      <td>2022-06-15 00:00:00</td>\n",
       "      <td>249883</td>\n",
       "    </tr>\n",
       "    <tr>\n",
       "      <th>3</th>\n",
       "      <td>2022-05-15 00:00:00</td>\n",
       "      <td>262861</td>\n",
       "    </tr>\n",
       "    <tr>\n",
       "      <th>4</th>\n",
       "      <td>2022-04-15 00:00:00</td>\n",
       "      <td>255808</td>\n",
       "    </tr>\n",
       "  </tbody>\n",
       "</table>\n",
       "</div>"
      ],
      "text/plain": [
       "                  Date Gas exported(MMcf)\n",
       "0  2022-08-15 00:00:00             254542\n",
       "1  2022-07-15 00:00:00             256080\n",
       "2  2022-06-15 00:00:00             249883\n",
       "3  2022-05-15 00:00:00             262861\n",
       "4  2022-04-15 00:00:00             255808"
      ]
     },
     "execution_count": 52,
     "metadata": {},
     "output_type": "execute_result"
    }
   ],
   "source": [
    "#overview of updated dataframe\n",
    "gas_export_df.dropna(inplace=True)\n",
    "gas_export_df.head(5)"
   ]
  },
  {
   "cell_type": "markdown",
   "id": "c26e3801",
   "metadata": {},
   "source": [
    "US natural gas production"
   ]
  },
  {
   "cell_type": "code",
   "execution_count": 53,
   "id": "7e373752",
   "metadata": {},
   "outputs": [],
   "source": [
    "#Importing data from EIA(Energy Information Administration)\n",
    "gas_produce = pd.read_excel(r'D:\\myDocuments\\oil project\\US gas production.xls','Data 1')"
   ]
  },
  {
   "cell_type": "code",
   "execution_count": 54,
   "id": "f79b7504",
   "metadata": {},
   "outputs": [],
   "source": [
    "#modifying the dataframe\n",
    "gas_produce.drop(labels=[0,1],axis=0,inplace=True)\n",
    "gas_produce.reset_index(inplace=True)\n",
    "gas_produce.drop(labels=['index'],axis=1,inplace=True)\n",
    "gas_produce_df = gas_produce.iloc[::-1]\n",
    "gas_produce_df = gas_produce_df.filter(['Back to Contents', 'Unnamed: 2'])\n",
    "gas_produce_df.reset_index(inplace=True)\n",
    "gas_produce_df.drop(labels=['index'],axis=1,inplace=True)\n",
    "gas_produce_df.rename(columns = {'Back to Contents':'Date','Unnamed: 2':'Gas produced(MMcf)'}, inplace = True)\n",
    "gas_produce_df.dropna(inplace=True)\n",
    "gas_produce_df.reset_index(inplace=True)\n",
    "gas_produce_df.drop(labels=['index'],axis=1,inplace=True)"
   ]
  },
  {
   "cell_type": "code",
   "execution_count": 55,
   "id": "0aafe08b",
   "metadata": {},
   "outputs": [
    {
     "data": {
      "text/html": [
       "<div>\n",
       "<style scoped>\n",
       "    .dataframe tbody tr th:only-of-type {\n",
       "        vertical-align: middle;\n",
       "    }\n",
       "\n",
       "    .dataframe tbody tr th {\n",
       "        vertical-align: top;\n",
       "    }\n",
       "\n",
       "    .dataframe thead th {\n",
       "        text-align: right;\n",
       "    }\n",
       "</style>\n",
       "<table border=\"1\" class=\"dataframe\">\n",
       "  <thead>\n",
       "    <tr style=\"text-align: right;\">\n",
       "      <th></th>\n",
       "      <th>Date</th>\n",
       "      <th>Gas produced(MMcf)</th>\n",
       "    </tr>\n",
       "  </thead>\n",
       "  <tbody>\n",
       "    <tr>\n",
       "      <th>0</th>\n",
       "      <td>2022-08-15 00:00:00</td>\n",
       "      <td>3350213</td>\n",
       "    </tr>\n",
       "    <tr>\n",
       "      <th>1</th>\n",
       "      <td>2022-07-15 00:00:00</td>\n",
       "      <td>3333138</td>\n",
       "    </tr>\n",
       "    <tr>\n",
       "      <th>2</th>\n",
       "      <td>2022-06-15 00:00:00</td>\n",
       "      <td>3214637</td>\n",
       "    </tr>\n",
       "    <tr>\n",
       "      <th>3</th>\n",
       "      <td>2022-05-15 00:00:00</td>\n",
       "      <td>3295871</td>\n",
       "    </tr>\n",
       "    <tr>\n",
       "      <th>4</th>\n",
       "      <td>2022-04-15 00:00:00</td>\n",
       "      <td>3151649</td>\n",
       "    </tr>\n",
       "  </tbody>\n",
       "</table>\n",
       "</div>"
      ],
      "text/plain": [
       "                  Date Gas produced(MMcf)\n",
       "0  2022-08-15 00:00:00            3350213\n",
       "1  2022-07-15 00:00:00            3333138\n",
       "2  2022-06-15 00:00:00            3214637\n",
       "3  2022-05-15 00:00:00            3295871\n",
       "4  2022-04-15 00:00:00            3151649"
      ]
     },
     "execution_count": 55,
     "metadata": {},
     "output_type": "execute_result"
    }
   ],
   "source": [
    "#overview of updated dataframe\n",
    "gas_produce_df.dropna(inplace=True)\n",
    "gas_produce_df.head(5)"
   ]
  },
  {
   "cell_type": "markdown",
   "id": "0649f544",
   "metadata": {},
   "source": [
    "US natural gas consumption"
   ]
  },
  {
   "cell_type": "code",
   "execution_count": 56,
   "id": "aa7b4e75",
   "metadata": {},
   "outputs": [],
   "source": [
    "#Importing data from EIA(Energy Information Administration)\n",
    "gas_consume = pd.read_excel(r'D:\\myDocuments\\oil project\\US gas consumption.xls','Data 1')"
   ]
  },
  {
   "cell_type": "code",
   "execution_count": 57,
   "id": "bf27f07b",
   "metadata": {},
   "outputs": [],
   "source": [
    "#modifying the dataframe\n",
    "gas_consume.drop(labels=[0,1],axis=0,inplace=True)\n",
    "gas_consume.reset_index(inplace=True)\n",
    "gas_consume.drop(labels=['index'],axis=1,inplace=True)\n",
    "gas_consume_df = gas_consume.iloc[::-1]\n",
    "gas_consume_df = gas_consume_df.filter(['Back to Contents', 'Data 1: U.S. Natural Gas Consumption by End Use'])\n",
    "gas_consume_df.reset_index(inplace=True)\n",
    "gas_consume_df.drop(labels=['index'],axis=1,inplace=True)\n",
    "gas_consume_df.rename(columns = {'Back to Contents':'Date','Data 1: U.S. Natural Gas Consumption by End Use':'Gas consumed(MMcf)'}, inplace = True)\n",
    "gas_consume_df.dropna(inplace=True)\n",
    "gas_consume_df.reset_index(inplace=True)\n",
    "gas_consume_df.drop(labels=['index'],axis=1,inplace=True)"
   ]
  },
  {
   "cell_type": "code",
   "execution_count": 58,
   "id": "7a60f9d0",
   "metadata": {
    "scrolled": true
   },
   "outputs": [
    {
     "data": {
      "text/html": [
       "<div>\n",
       "<style scoped>\n",
       "    .dataframe tbody tr th:only-of-type {\n",
       "        vertical-align: middle;\n",
       "    }\n",
       "\n",
       "    .dataframe tbody tr th {\n",
       "        vertical-align: top;\n",
       "    }\n",
       "\n",
       "    .dataframe thead th {\n",
       "        text-align: right;\n",
       "    }\n",
       "</style>\n",
       "<table border=\"1\" class=\"dataframe\">\n",
       "  <thead>\n",
       "    <tr style=\"text-align: right;\">\n",
       "      <th></th>\n",
       "      <th>Date</th>\n",
       "      <th>Gas consumed(MMcf)</th>\n",
       "    </tr>\n",
       "  </thead>\n",
       "  <tbody>\n",
       "    <tr>\n",
       "      <th>0</th>\n",
       "      <td>2022-08-15 00:00:00</td>\n",
       "      <td>2566066</td>\n",
       "    </tr>\n",
       "    <tr>\n",
       "      <th>1</th>\n",
       "      <td>2022-07-15 00:00:00</td>\n",
       "      <td>2597910</td>\n",
       "    </tr>\n",
       "    <tr>\n",
       "      <th>2</th>\n",
       "      <td>2022-06-15 00:00:00</td>\n",
       "      <td>2326936</td>\n",
       "    </tr>\n",
       "    <tr>\n",
       "      <th>3</th>\n",
       "      <td>2022-05-15 00:00:00</td>\n",
       "      <td>2247746</td>\n",
       "    </tr>\n",
       "    <tr>\n",
       "      <th>4</th>\n",
       "      <td>2022-04-15 00:00:00</td>\n",
       "      <td>2379312</td>\n",
       "    </tr>\n",
       "  </tbody>\n",
       "</table>\n",
       "</div>"
      ],
      "text/plain": [
       "                  Date Gas consumed(MMcf)\n",
       "0  2022-08-15 00:00:00            2566066\n",
       "1  2022-07-15 00:00:00            2597910\n",
       "2  2022-06-15 00:00:00            2326936\n",
       "3  2022-05-15 00:00:00            2247746\n",
       "4  2022-04-15 00:00:00            2379312"
      ]
     },
     "execution_count": 58,
     "metadata": {},
     "output_type": "execute_result"
    }
   ],
   "source": [
    "#overview of updated dataframe\n",
    "gas_consume_df.dropna(inplace=True)\n",
    "gas_consume_df.head(5)"
   ]
  },
  {
   "cell_type": "markdown",
   "id": "49a380ed",
   "metadata": {},
   "source": [
    "DATA ANALYSIS and VISUALIZATION"
   ]
  },
  {
   "cell_type": "code",
   "execution_count": 59,
   "id": "cf398ea0",
   "metadata": {},
   "outputs": [
    {
     "data": {
      "text/html": [
       "<div>\n",
       "<style scoped>\n",
       "    .dataframe tbody tr th:only-of-type {\n",
       "        vertical-align: middle;\n",
       "    }\n",
       "\n",
       "    .dataframe tbody tr th {\n",
       "        vertical-align: top;\n",
       "    }\n",
       "\n",
       "    .dataframe thead th {\n",
       "        text-align: right;\n",
       "    }\n",
       "</style>\n",
       "<table border=\"1\" class=\"dataframe\">\n",
       "  <thead>\n",
       "    <tr style=\"text-align: right;\">\n",
       "      <th></th>\n",
       "      <th>Date</th>\n",
       "      <th>Europe Brent Spot Price(Dollars per Barrel)</th>\n",
       "      <th>Henry Hub Natural Gas spot price(Dollars per Million Btu)</th>\n",
       "    </tr>\n",
       "  </thead>\n",
       "  <tbody>\n",
       "    <tr>\n",
       "      <th>0</th>\n",
       "      <td>2022-11-07 00:00:00</td>\n",
       "      <td>99.87</td>\n",
       "      <td>4.62</td>\n",
       "    </tr>\n",
       "    <tr>\n",
       "      <th>1</th>\n",
       "      <td>2022-11-04 00:00:00</td>\n",
       "      <td>99.53</td>\n",
       "      <td>4</td>\n",
       "    </tr>\n",
       "    <tr>\n",
       "      <th>2</th>\n",
       "      <td>2022-11-03 00:00:00</td>\n",
       "      <td>95.29</td>\n",
       "      <td>4.65</td>\n",
       "    </tr>\n",
       "    <tr>\n",
       "      <th>3</th>\n",
       "      <td>2022-11-02 00:00:00</td>\n",
       "      <td>96.07</td>\n",
       "      <td>4.58</td>\n",
       "    </tr>\n",
       "    <tr>\n",
       "      <th>4</th>\n",
       "      <td>2022-11-01 00:00:00</td>\n",
       "      <td>95.12</td>\n",
       "      <td>4.57</td>\n",
       "    </tr>\n",
       "    <tr>\n",
       "      <th>5</th>\n",
       "      <td>2022-10-31 00:00:00</td>\n",
       "      <td>93.3</td>\n",
       "      <td>5.02</td>\n",
       "    </tr>\n",
       "    <tr>\n",
       "      <th>6</th>\n",
       "      <td>2022-10-28 00:00:00</td>\n",
       "      <td>94.64</td>\n",
       "      <td>5.02</td>\n",
       "    </tr>\n",
       "  </tbody>\n",
       "</table>\n",
       "</div>"
      ],
      "text/plain": [
       "                  Date Europe Brent Spot Price(Dollars per Barrel)  \\\n",
       "0  2022-11-07 00:00:00                                       99.87   \n",
       "1  2022-11-04 00:00:00                                       99.53   \n",
       "2  2022-11-03 00:00:00                                       95.29   \n",
       "3  2022-11-02 00:00:00                                       96.07   \n",
       "4  2022-11-01 00:00:00                                       95.12   \n",
       "5  2022-10-31 00:00:00                                        93.3   \n",
       "6  2022-10-28 00:00:00                                       94.64   \n",
       "\n",
       "  Henry Hub Natural Gas spot price(Dollars per Million Btu)  \n",
       "0                                               4.62         \n",
       "1                                                  4         \n",
       "2                                               4.65         \n",
       "3                                               4.58         \n",
       "4                                               4.57         \n",
       "5                                               5.02         \n",
       "6                                               5.02         "
      ]
     },
     "execution_count": 59,
     "metadata": {},
     "output_type": "execute_result"
    }
   ],
   "source": [
    "#merging oil price and gas price dataframes\n",
    "df = pd.merge(left=oil_df,right=gas_df,how='left',on='Date')\n",
    "\n",
    "#dataframe overview\n",
    "df.head(7)"
   ]
  },
  {
   "cell_type": "code",
   "execution_count": 60,
   "id": "589eee56",
   "metadata": {},
   "outputs": [
    {
     "data": {
      "text/html": [
       "<div>\n",
       "<style scoped>\n",
       "    .dataframe tbody tr th:only-of-type {\n",
       "        vertical-align: middle;\n",
       "    }\n",
       "\n",
       "    .dataframe tbody tr th {\n",
       "        vertical-align: top;\n",
       "    }\n",
       "\n",
       "    .dataframe thead th {\n",
       "        text-align: right;\n",
       "    }\n",
       "</style>\n",
       "<table border=\"1\" class=\"dataframe\">\n",
       "  <thead>\n",
       "    <tr style=\"text-align: right;\">\n",
       "      <th></th>\n",
       "      <th>Date</th>\n",
       "      <th>Europe Brent Spot Price(Dollars per Barrel)</th>\n",
       "      <th>Henry Hub Natural Gas spot price(Dollars per Million Btu)</th>\n",
       "      <th>Crude oil rotary rigs in operation</th>\n",
       "      <th>Natural gas rotary rigs in operation</th>\n",
       "      <th>Total Rotary Rigs in operation</th>\n",
       "      <th>Total Onshore Rotary Rigs in operation</th>\n",
       "      <th>Total Offshore Rotary Rigs in operation</th>\n",
       "      <th>Total Wells Drilled(Count)</th>\n",
       "      <th>Oil Wells Drilled(Count)</th>\n",
       "      <th>Gas Wells Drilled(Count)</th>\n",
       "      <th>Oil imported(Thousand Barrels)</th>\n",
       "      <th>Oil exported(Thousand Barrels)</th>\n",
       "      <th>Oil produced(Thousand Barrels)</th>\n",
       "      <th>Oil consumed(Thousand Barrels)</th>\n",
       "      <th>Gas imported(MMcf)</th>\n",
       "      <th>Gas exported(MMcf)</th>\n",
       "      <th>Gas produced(MMcf)</th>\n",
       "      <th>Gas consumed(MMcf)</th>\n",
       "    </tr>\n",
       "  </thead>\n",
       "  <tbody>\n",
       "    <tr>\n",
       "      <th>0</th>\n",
       "      <td>2022-11-07</td>\n",
       "      <td>99.87</td>\n",
       "      <td>4.62</td>\n",
       "      <td>NaN</td>\n",
       "      <td>NaN</td>\n",
       "      <td>NaN</td>\n",
       "      <td>NaN</td>\n",
       "      <td>NaN</td>\n",
       "      <td>NaN</td>\n",
       "      <td>NaN</td>\n",
       "      <td>NaN</td>\n",
       "      <td>NaN</td>\n",
       "      <td>NaN</td>\n",
       "      <td>NaN</td>\n",
       "      <td>NaN</td>\n",
       "      <td>NaN</td>\n",
       "      <td>NaN</td>\n",
       "      <td>NaN</td>\n",
       "      <td>NaN</td>\n",
       "    </tr>\n",
       "    <tr>\n",
       "      <th>1</th>\n",
       "      <td>2022-11-04</td>\n",
       "      <td>99.53</td>\n",
       "      <td>4.00</td>\n",
       "      <td>NaN</td>\n",
       "      <td>NaN</td>\n",
       "      <td>NaN</td>\n",
       "      <td>NaN</td>\n",
       "      <td>NaN</td>\n",
       "      <td>NaN</td>\n",
       "      <td>NaN</td>\n",
       "      <td>NaN</td>\n",
       "      <td>NaN</td>\n",
       "      <td>NaN</td>\n",
       "      <td>NaN</td>\n",
       "      <td>NaN</td>\n",
       "      <td>NaN</td>\n",
       "      <td>NaN</td>\n",
       "      <td>NaN</td>\n",
       "      <td>NaN</td>\n",
       "    </tr>\n",
       "    <tr>\n",
       "      <th>2</th>\n",
       "      <td>2022-11-03</td>\n",
       "      <td>95.29</td>\n",
       "      <td>4.65</td>\n",
       "      <td>NaN</td>\n",
       "      <td>NaN</td>\n",
       "      <td>NaN</td>\n",
       "      <td>NaN</td>\n",
       "      <td>NaN</td>\n",
       "      <td>NaN</td>\n",
       "      <td>NaN</td>\n",
       "      <td>NaN</td>\n",
       "      <td>NaN</td>\n",
       "      <td>NaN</td>\n",
       "      <td>NaN</td>\n",
       "      <td>NaN</td>\n",
       "      <td>NaN</td>\n",
       "      <td>NaN</td>\n",
       "      <td>NaN</td>\n",
       "      <td>NaN</td>\n",
       "    </tr>\n",
       "    <tr>\n",
       "      <th>3</th>\n",
       "      <td>2022-11-02</td>\n",
       "      <td>96.07</td>\n",
       "      <td>4.58</td>\n",
       "      <td>NaN</td>\n",
       "      <td>NaN</td>\n",
       "      <td>NaN</td>\n",
       "      <td>NaN</td>\n",
       "      <td>NaN</td>\n",
       "      <td>NaN</td>\n",
       "      <td>NaN</td>\n",
       "      <td>NaN</td>\n",
       "      <td>NaN</td>\n",
       "      <td>NaN</td>\n",
       "      <td>NaN</td>\n",
       "      <td>NaN</td>\n",
       "      <td>NaN</td>\n",
       "      <td>NaN</td>\n",
       "      <td>NaN</td>\n",
       "      <td>NaN</td>\n",
       "    </tr>\n",
       "    <tr>\n",
       "      <th>4</th>\n",
       "      <td>2022-11-01</td>\n",
       "      <td>95.12</td>\n",
       "      <td>4.57</td>\n",
       "      <td>NaN</td>\n",
       "      <td>NaN</td>\n",
       "      <td>NaN</td>\n",
       "      <td>NaN</td>\n",
       "      <td>NaN</td>\n",
       "      <td>NaN</td>\n",
       "      <td>NaN</td>\n",
       "      <td>NaN</td>\n",
       "      <td>NaN</td>\n",
       "      <td>NaN</td>\n",
       "      <td>NaN</td>\n",
       "      <td>NaN</td>\n",
       "      <td>NaN</td>\n",
       "      <td>NaN</td>\n",
       "      <td>NaN</td>\n",
       "      <td>NaN</td>\n",
       "    </tr>\n",
       "    <tr>\n",
       "      <th>5</th>\n",
       "      <td>2022-10-31</td>\n",
       "      <td>93.30</td>\n",
       "      <td>5.02</td>\n",
       "      <td>NaN</td>\n",
       "      <td>NaN</td>\n",
       "      <td>NaN</td>\n",
       "      <td>NaN</td>\n",
       "      <td>NaN</td>\n",
       "      <td>NaN</td>\n",
       "      <td>NaN</td>\n",
       "      <td>NaN</td>\n",
       "      <td>NaN</td>\n",
       "      <td>NaN</td>\n",
       "      <td>NaN</td>\n",
       "      <td>NaN</td>\n",
       "      <td>NaN</td>\n",
       "      <td>NaN</td>\n",
       "      <td>NaN</td>\n",
       "      <td>NaN</td>\n",
       "    </tr>\n",
       "    <tr>\n",
       "      <th>6</th>\n",
       "      <td>2022-10-28</td>\n",
       "      <td>94.64</td>\n",
       "      <td>5.02</td>\n",
       "      <td>NaN</td>\n",
       "      <td>NaN</td>\n",
       "      <td>NaN</td>\n",
       "      <td>NaN</td>\n",
       "      <td>NaN</td>\n",
       "      <td>NaN</td>\n",
       "      <td>NaN</td>\n",
       "      <td>NaN</td>\n",
       "      <td>NaN</td>\n",
       "      <td>NaN</td>\n",
       "      <td>NaN</td>\n",
       "      <td>NaN</td>\n",
       "      <td>NaN</td>\n",
       "      <td>NaN</td>\n",
       "      <td>NaN</td>\n",
       "      <td>NaN</td>\n",
       "    </tr>\n",
       "  </tbody>\n",
       "</table>\n",
       "</div>"
      ],
      "text/plain": [
       "        Date  Europe Brent Spot Price(Dollars per Barrel)  \\\n",
       "0 2022-11-07                                        99.87   \n",
       "1 2022-11-04                                        99.53   \n",
       "2 2022-11-03                                        95.29   \n",
       "3 2022-11-02                                        96.07   \n",
       "4 2022-11-01                                        95.12   \n",
       "5 2022-10-31                                        93.30   \n",
       "6 2022-10-28                                        94.64   \n",
       "\n",
       "   Henry Hub Natural Gas spot price(Dollars per Million Btu)  \\\n",
       "0                                               4.62           \n",
       "1                                               4.00           \n",
       "2                                               4.65           \n",
       "3                                               4.58           \n",
       "4                                               4.57           \n",
       "5                                               5.02           \n",
       "6                                               5.02           \n",
       "\n",
       "   Crude oil rotary rigs in operation  Natural gas rotary rigs in operation  \\\n",
       "0                                 NaN                                   NaN   \n",
       "1                                 NaN                                   NaN   \n",
       "2                                 NaN                                   NaN   \n",
       "3                                 NaN                                   NaN   \n",
       "4                                 NaN                                   NaN   \n",
       "5                                 NaN                                   NaN   \n",
       "6                                 NaN                                   NaN   \n",
       "\n",
       "   Total Rotary Rigs in operation  Total Onshore Rotary Rigs in operation  \\\n",
       "0                             NaN                                     NaN   \n",
       "1                             NaN                                     NaN   \n",
       "2                             NaN                                     NaN   \n",
       "3                             NaN                                     NaN   \n",
       "4                             NaN                                     NaN   \n",
       "5                             NaN                                     NaN   \n",
       "6                             NaN                                     NaN   \n",
       "\n",
       "   Total Offshore Rotary Rigs in operation  Total Wells Drilled(Count)  \\\n",
       "0                                      NaN                         NaN   \n",
       "1                                      NaN                         NaN   \n",
       "2                                      NaN                         NaN   \n",
       "3                                      NaN                         NaN   \n",
       "4                                      NaN                         NaN   \n",
       "5                                      NaN                         NaN   \n",
       "6                                      NaN                         NaN   \n",
       "\n",
       "   Oil Wells Drilled(Count)  Gas Wells Drilled(Count)  \\\n",
       "0                       NaN                       NaN   \n",
       "1                       NaN                       NaN   \n",
       "2                       NaN                       NaN   \n",
       "3                       NaN                       NaN   \n",
       "4                       NaN                       NaN   \n",
       "5                       NaN                       NaN   \n",
       "6                       NaN                       NaN   \n",
       "\n",
       "   Oil imported(Thousand Barrels)  Oil exported(Thousand Barrels)  \\\n",
       "0                             NaN                             NaN   \n",
       "1                             NaN                             NaN   \n",
       "2                             NaN                             NaN   \n",
       "3                             NaN                             NaN   \n",
       "4                             NaN                             NaN   \n",
       "5                             NaN                             NaN   \n",
       "6                             NaN                             NaN   \n",
       "\n",
       "   Oil produced(Thousand Barrels)  Oil consumed(Thousand Barrels)  \\\n",
       "0                             NaN                             NaN   \n",
       "1                             NaN                             NaN   \n",
       "2                             NaN                             NaN   \n",
       "3                             NaN                             NaN   \n",
       "4                             NaN                             NaN   \n",
       "5                             NaN                             NaN   \n",
       "6                             NaN                             NaN   \n",
       "\n",
       "   Gas imported(MMcf)  Gas exported(MMcf)  Gas produced(MMcf)  \\\n",
       "0                 NaN                 NaN                 NaN   \n",
       "1                 NaN                 NaN                 NaN   \n",
       "2                 NaN                 NaN                 NaN   \n",
       "3                 NaN                 NaN                 NaN   \n",
       "4                 NaN                 NaN                 NaN   \n",
       "5                 NaN                 NaN                 NaN   \n",
       "6                 NaN                 NaN                 NaN   \n",
       "\n",
       "   Gas consumed(MMcf)  \n",
       "0                 NaN  \n",
       "1                 NaN  \n",
       "2                 NaN  \n",
       "3                 NaN  \n",
       "4                 NaN  \n",
       "5                 NaN  \n",
       "6                 NaN  "
      ]
     },
     "execution_count": 60,
     "metadata": {},
     "output_type": "execute_result"
    }
   ],
   "source": [
    "#combining all entries into single dataframe\n",
    "df_list = [oil_rig_df, gas_rig_df, total_rig_df, onshore_rig_df, offshore_rig_df, total_well_df, oil_well_df, gas_well_df,\n",
    "           oil_import_df, oil_export_df, oil_produce_df, oil_consume_df, gas_import_df, gas_export_df, gas_produce_df, gas_consume_df]\n",
    "\n",
    "for data in range(len(df_list)):    \n",
    "    df = pd.merge(left=df,right=df_list[data],how='outer', on='Date')\n",
    "    \n",
    "#filtering data    \n",
    "cols = df.columns\n",
    "df[cols[1:]] = df[cols[1:]].apply(pd.to_numeric, errors='coerce')\n",
    "df[\"Date\"] = pd.to_datetime(df[\"Date\"])\n",
    "\n",
    "#dataframe overview\n",
    "df.head(7)"
   ]
  },
  {
   "cell_type": "markdown",
   "id": "09f0a4a7",
   "metadata": {},
   "source": [
    "Statistical analysis"
   ]
  },
  {
   "cell_type": "code",
   "execution_count": 61,
   "id": "4a239ec3",
   "metadata": {
    "scrolled": false
   },
   "outputs": [
    {
     "data": {
      "text/html": [
       "<div>\n",
       "<style scoped>\n",
       "    .dataframe tbody tr th:only-of-type {\n",
       "        vertical-align: middle;\n",
       "    }\n",
       "\n",
       "    .dataframe tbody tr th {\n",
       "        vertical-align: top;\n",
       "    }\n",
       "\n",
       "    .dataframe thead th {\n",
       "        text-align: right;\n",
       "    }\n",
       "</style>\n",
       "<table border=\"1\" class=\"dataframe\">\n",
       "  <thead>\n",
       "    <tr style=\"text-align: right;\">\n",
       "      <th></th>\n",
       "      <th>count</th>\n",
       "      <th>mean</th>\n",
       "      <th>min</th>\n",
       "      <th>max</th>\n",
       "      <th>std</th>\n",
       "    </tr>\n",
       "  </thead>\n",
       "  <tbody>\n",
       "    <tr>\n",
       "      <th>Europe Brent Spot Price(Dollars per Barrel)</th>\n",
       "      <td>9004.0</td>\n",
       "      <td>48.39</td>\n",
       "      <td>9.10</td>\n",
       "      <td>143.95</td>\n",
       "      <td>32.85</td>\n",
       "    </tr>\n",
       "    <tr>\n",
       "      <th>Henry Hub Natural Gas spot price(Dollars per Million Btu)</th>\n",
       "      <td>6428.0</td>\n",
       "      <td>4.24</td>\n",
       "      <td>1.05</td>\n",
       "      <td>23.86</td>\n",
       "      <td>2.20</td>\n",
       "    </tr>\n",
       "    <tr>\n",
       "      <th>Crude oil rotary rigs in operation</th>\n",
       "      <td>421.0</td>\n",
       "      <td>498.21</td>\n",
       "      <td>108.00</td>\n",
       "      <td>1596.00</td>\n",
       "      <td>356.78</td>\n",
       "    </tr>\n",
       "    <tr>\n",
       "      <th>Natural gas rotary rigs in operation</th>\n",
       "      <td>421.0</td>\n",
       "      <td>573.09</td>\n",
       "      <td>70.00</td>\n",
       "      <td>1585.00</td>\n",
       "      <td>390.69</td>\n",
       "    </tr>\n",
       "    <tr>\n",
       "      <th>Total Rotary Rigs in operation</th>\n",
       "      <td>596.0</td>\n",
       "      <td>1378.80</td>\n",
       "      <td>250.00</td>\n",
       "      <td>4521.00</td>\n",
       "      <td>754.25</td>\n",
       "    </tr>\n",
       "    <tr>\n",
       "      <th>Total Onshore Rotary Rigs in operation</th>\n",
       "      <td>596.0</td>\n",
       "      <td>1273.23</td>\n",
       "      <td>237.00</td>\n",
       "      <td>4238.00</td>\n",
       "      <td>704.06</td>\n",
       "    </tr>\n",
       "    <tr>\n",
       "      <th>Total Offshore Rotary Rigs in operation</th>\n",
       "      <td>596.0</td>\n",
       "      <td>102.57</td>\n",
       "      <td>6.00</td>\n",
       "      <td>283.00</td>\n",
       "      <td>64.18</td>\n",
       "    </tr>\n",
       "    <tr>\n",
       "      <th>Total Wells Drilled(Count)</th>\n",
       "      <td>456.0</td>\n",
       "      <td>3479.42</td>\n",
       "      <td>1051.00</td>\n",
       "      <td>8556.00</td>\n",
       "      <td>1656.70</td>\n",
       "    </tr>\n",
       "    <tr>\n",
       "      <th>Oil Wells Drilled(Count)</th>\n",
       "      <td>456.0</td>\n",
       "      <td>1354.57</td>\n",
       "      <td>223.00</td>\n",
       "      <td>3945.00</td>\n",
       "      <td>904.62</td>\n",
       "    </tr>\n",
       "    <tr>\n",
       "      <th>Gas Wells Drilled(Count)</th>\n",
       "      <td>456.0</td>\n",
       "      <td>1259.27</td>\n",
       "      <td>454.00</td>\n",
       "      <td>3200.00</td>\n",
       "      <td>626.15</td>\n",
       "    </tr>\n",
       "    <tr>\n",
       "      <th>Oil imported(Thousand Barrels)</th>\n",
       "      <td>1232.0</td>\n",
       "      <td>110410.12</td>\n",
       "      <td>0.00</td>\n",
       "      <td>327476.00</td>\n",
       "      <td>107273.14</td>\n",
       "    </tr>\n",
       "    <tr>\n",
       "      <th>Oil exported(Thousand Barrels)</th>\n",
       "      <td>1232.0</td>\n",
       "      <td>6973.88</td>\n",
       "      <td>0.00</td>\n",
       "      <td>117665.00</td>\n",
       "      <td>18622.57</td>\n",
       "    </tr>\n",
       "    <tr>\n",
       "      <th>Oil produced(Thousand Barrels)</th>\n",
       "      <td>1232.0</td>\n",
       "      <td>192273.97</td>\n",
       "      <td>33193.00</td>\n",
       "      <td>402314.00</td>\n",
       "      <td>78873.58</td>\n",
       "    </tr>\n",
       "    <tr>\n",
       "      <th>Oil consumed(Thousand Barrels)</th>\n",
       "      <td>500.0</td>\n",
       "      <td>563294.27</td>\n",
       "      <td>414173.00</td>\n",
       "      <td>671648.00</td>\n",
       "      <td>54452.83</td>\n",
       "    </tr>\n",
       "    <tr>\n",
       "      <th>Gas imported(MMcf)</th>\n",
       "      <td>596.0</td>\n",
       "      <td>203940.51</td>\n",
       "      <td>42512.00</td>\n",
       "      <td>426534.00</td>\n",
       "      <td>102111.08</td>\n",
       "    </tr>\n",
       "    <tr>\n",
       "      <th>Gas exported(MMcf)</th>\n",
       "      <td>272.0</td>\n",
       "      <td>122146.24</td>\n",
       "      <td>5741.00</td>\n",
       "      <td>275524.00</td>\n",
       "      <td>76961.31</td>\n",
       "    </tr>\n",
       "    <tr>\n",
       "      <th>Gas produced(MMcf)</th>\n",
       "      <td>596.0</td>\n",
       "      <td>1847156.60</td>\n",
       "      <td>1284803.00</td>\n",
       "      <td>3350213.00</td>\n",
       "      <td>455222.27</td>\n",
       "    </tr>\n",
       "    <tr>\n",
       "      <th>Gas consumed(MMcf)</th>\n",
       "      <td>260.0</td>\n",
       "      <td>2137153.08</td>\n",
       "      <td>1368369.00</td>\n",
       "      <td>3612094.00</td>\n",
       "      <td>474889.11</td>\n",
       "    </tr>\n",
       "  </tbody>\n",
       "</table>\n",
       "</div>"
      ],
      "text/plain": [
       "                                                     count        mean  \\\n",
       "Europe Brent Spot Price(Dollars per Barrel)         9004.0       48.39   \n",
       "Henry Hub Natural Gas spot price(Dollars per Mi...  6428.0        4.24   \n",
       "Crude oil rotary rigs in operation                   421.0      498.21   \n",
       "Natural gas rotary rigs in operation                 421.0      573.09   \n",
       "Total Rotary Rigs in operation                       596.0     1378.80   \n",
       "Total Onshore Rotary Rigs in operation               596.0     1273.23   \n",
       "Total Offshore Rotary Rigs in operation              596.0      102.57   \n",
       "Total Wells Drilled(Count)                           456.0     3479.42   \n",
       "Oil Wells Drilled(Count)                             456.0     1354.57   \n",
       "Gas Wells Drilled(Count)                             456.0     1259.27   \n",
       "Oil imported(Thousand Barrels)                      1232.0   110410.12   \n",
       "Oil exported(Thousand Barrels)                      1232.0     6973.88   \n",
       "Oil produced(Thousand Barrels)                      1232.0   192273.97   \n",
       "Oil consumed(Thousand Barrels)                       500.0   563294.27   \n",
       "Gas imported(MMcf)                                   596.0   203940.51   \n",
       "Gas exported(MMcf)                                   272.0   122146.24   \n",
       "Gas produced(MMcf)                                   596.0  1847156.60   \n",
       "Gas consumed(MMcf)                                   260.0  2137153.08   \n",
       "\n",
       "                                                           min         max  \\\n",
       "Europe Brent Spot Price(Dollars per Barrel)               9.10      143.95   \n",
       "Henry Hub Natural Gas spot price(Dollars per Mi...        1.05       23.86   \n",
       "Crude oil rotary rigs in operation                      108.00     1596.00   \n",
       "Natural gas rotary rigs in operation                     70.00     1585.00   \n",
       "Total Rotary Rigs in operation                          250.00     4521.00   \n",
       "Total Onshore Rotary Rigs in operation                  237.00     4238.00   \n",
       "Total Offshore Rotary Rigs in operation                   6.00      283.00   \n",
       "Total Wells Drilled(Count)                             1051.00     8556.00   \n",
       "Oil Wells Drilled(Count)                                223.00     3945.00   \n",
       "Gas Wells Drilled(Count)                                454.00     3200.00   \n",
       "Oil imported(Thousand Barrels)                            0.00   327476.00   \n",
       "Oil exported(Thousand Barrels)                            0.00   117665.00   \n",
       "Oil produced(Thousand Barrels)                        33193.00   402314.00   \n",
       "Oil consumed(Thousand Barrels)                       414173.00   671648.00   \n",
       "Gas imported(MMcf)                                    42512.00   426534.00   \n",
       "Gas exported(MMcf)                                     5741.00   275524.00   \n",
       "Gas produced(MMcf)                                  1284803.00  3350213.00   \n",
       "Gas consumed(MMcf)                                  1368369.00  3612094.00   \n",
       "\n",
       "                                                          std  \n",
       "Europe Brent Spot Price(Dollars per Barrel)             32.85  \n",
       "Henry Hub Natural Gas spot price(Dollars per Mi...       2.20  \n",
       "Crude oil rotary rigs in operation                     356.78  \n",
       "Natural gas rotary rigs in operation                   390.69  \n",
       "Total Rotary Rigs in operation                         754.25  \n",
       "Total Onshore Rotary Rigs in operation                 704.06  \n",
       "Total Offshore Rotary Rigs in operation                 64.18  \n",
       "Total Wells Drilled(Count)                            1656.70  \n",
       "Oil Wells Drilled(Count)                               904.62  \n",
       "Gas Wells Drilled(Count)                               626.15  \n",
       "Oil imported(Thousand Barrels)                      107273.14  \n",
       "Oil exported(Thousand Barrels)                       18622.57  \n",
       "Oil produced(Thousand Barrels)                       78873.58  \n",
       "Oil consumed(Thousand Barrels)                       54452.83  \n",
       "Gas imported(MMcf)                                  102111.08  \n",
       "Gas exported(MMcf)                                   76961.31  \n",
       "Gas produced(MMcf)                                  455222.27  \n",
       "Gas consumed(MMcf)                                  474889.11  "
      ]
     },
     "execution_count": 61,
     "metadata": {},
     "output_type": "execute_result"
    }
   ],
   "source": [
    "#statistical values\n",
    "df.describe().transpose()[['count','mean','min','max','std']].round(2)"
   ]
  },
  {
   "cell_type": "markdown",
   "id": "24e9539c",
   "metadata": {},
   "source": [
    "Visualizing data"
   ]
  },
  {
   "cell_type": "markdown",
   "id": "315469ac",
   "metadata": {},
   "source": [
    "Time Series analysis of operating rotary rig count for crude oil, natural gas and total combined."
   ]
  },
  {
   "cell_type": "code",
   "execution_count": 62,
   "id": "7be11166",
   "metadata": {},
   "outputs": [
    {
     "data": {
      "text/plain": [
       "Text(0, 0.5, 'Operating Rig Count')"
      ]
     },
     "execution_count": 62,
     "metadata": {},
     "output_type": "execute_result"
    },
    {
     "data": {
      "image/png": "[encoded data removed]",
      "text/plain": [
       "<Figure size 1008x576 with 1 Axes>"
      ]
     },
     "metadata": {
      "needs_background": "light"
     },
     "output_type": "display_data"
    }
   ],
   "source": [
    "sns.set_style('whitegrid')\n",
    "for rig_count in ['Crude oil rotary rigs in operation','Natural gas rotary rigs in operation','Total Rotary Rigs in operation']:\n",
    "    df.groupby([df['Date'].dt.year,df['Date'].dt.month])[rig_count].sum().plot.line(figsize=(14,8))\n",
    "plt.legend() \n",
    "plt.xlabel('Date')\n",
    "plt.ylabel('Operating Rig Count')"
   ]
  },
  {
   "cell_type": "markdown",
   "id": "c569c40b",
   "metadata": {},
   "source": [
    "Time Series analysis of drilled well count for crude oil, natural gas and total combined."
   ]
  },
  {
   "cell_type": "code",
   "execution_count": 63,
   "id": "c9fd1e52",
   "metadata": {},
   "outputs": [
    {
     "data": {
      "text/plain": [
       "Text(0, 0.5, 'Drilled Well count')"
      ]
     },
     "execution_count": 63,
     "metadata": {},
     "output_type": "execute_result"
    },
    {
     "data": {
      "image/png": "[encoded data removed]",
      "text/plain": [
       "<Figure size 1008x576 with 1 Axes>"
      ]
     },
     "metadata": {},
     "output_type": "display_data"
    }
   ],
   "source": [
    "sns.set_style('whitegrid')\n",
    "for rig_count in ['Oil Wells Drilled(Count)','Gas Wells Drilled(Count)','Total Wells Drilled(Count)']:\n",
    "    df.groupby([df['Date'].dt.year,df['Date'].dt.month])[rig_count].sum().plot.line(figsize=(14,8))\n",
    "plt.legend() \n",
    "plt.xlabel('Date')\n",
    "plt.ylabel('Drilled Well count')"
   ]
  },
  {
   "cell_type": "markdown",
   "id": "dd7937f9",
   "metadata": {},
   "source": [
    "Time Series analysis of variations in Crude oil import, export, production and consumption."
   ]
  },
  {
   "cell_type": "code",
   "execution_count": 64,
   "id": "ed58fee1",
   "metadata": {
    "scrolled": false
   },
   "outputs": [
    {
     "data": {
      "text/plain": [
       "Text(0.5, 0, 'Date')"
      ]
     },
     "execution_count": 64,
     "metadata": {},
     "output_type": "execute_result"
    },
    {
     "data": {
      "image/png": "[encoded data removed]",
      "text/plain": [
       "<Figure size 1152x504 with 1 Axes>"
      ]
     },
     "metadata": {},
     "output_type": "display_data"
    }
   ],
   "source": [
    "for feature in ['Oil imported(Thousand Barrels)','Oil exported(Thousand Barrels)','Oil produced(Thousand Barrels)','Oil consumed(Thousand Barrels)']:\n",
    "    df.groupby([df['Date'].dt.year,df['Date'].dt.month])[feature].sum().plot.line(figsize=(16,7))\n",
    "plt.legend() \n",
    "plt.xlabel('Date')"
   ]
  },
  {
   "cell_type": "markdown",
   "id": "28c08349",
   "metadata": {},
   "source": [
    "Time Series analysis of variations in Natural Gas import, export, production and consumption."
   ]
  },
  {
   "cell_type": "code",
   "execution_count": 65,
   "id": "7e6e3005",
   "metadata": {},
   "outputs": [
    {
     "data": {
      "text/plain": [
       "Text(0.5, 0, 'Date')"
      ]
     },
     "execution_count": 65,
     "metadata": {},
     "output_type": "execute_result"
    },
    {
     "data": {
      "image/png": "[encoded data removed]",
      "text/plain": [
       "<Figure size 1152x504 with 1 Axes>"
      ]
     },
     "metadata": {},
     "output_type": "display_data"
    }
   ],
   "source": [
    "for feature in ['Gas imported(MMcf)','Gas exported(MMcf)','Gas produced(MMcf)','Gas consumed(MMcf)']:\n",
    "    df.groupby([df['Date'].dt.year,df['Date'].dt.month])[feature].sum().plot.line(figsize=(16,7))\n",
    "plt.legend() \n",
    "plt.xlabel('Date')"
   ]
  }
 ],
 "metadata": {
  "kernelspec": {
   "display_name": "SLB",
   "language": "python",
   "name": "slb"
  },
  "language_info": {
   "codemirror_mode": {
    "name": "ipython",
    "version": 3
   },
   "file_extension": ".py",
   "mimetype": "text/x-python",
   "name": "python",
   "nbconvert_exporter": "python",
   "pygments_lexer": "ipython3",
   "version": "3.10.4"
  }
 },
 "nbformat": 4,
 "nbformat_minor": 5
}
